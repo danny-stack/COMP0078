{
  "cells": [
    {
      "cell_type": "code",
      "execution_count": 2,
      "metadata": {
        "id": "OmzebGnawpCA"
      },
      "outputs": [],
      "source": [
        "import numpy as np\n",
        "import matplotlib.pyplot as plt\n",
        "import pandas as pd\n",
        "\n",
        "# The library used to spliting training set and test set\n",
        "from sklearn.model_selection import train_test_split\n",
        "\n",
        "from scipy.interpolate import splrep, splev\n",
        "#from scipy.stats import norm\n"
      ]
    },
    {
      "cell_type": "markdown",
      "metadata": {
        "id": "9GUYdw2RwpCB"
      },
      "source": [
        "1.1 Linear Regression"
      ]
    },
    {
      "cell_type": "code",
      "execution_count": 3,
      "metadata": {
        "id": "CYDhF649wpCC"
      },
      "outputs": [],
      "source": [
        "# Data\n",
        "X = np.array([1, 2, 3, 4]).reshape(-1, 1)\n",
        "Y = np.array([3, 2, 0, 5])\n",
        "X_b = np.c_[np.ones((4, 1)), X]"
      ]
    },
    {
      "cell_type": "code",
      "execution_count": 4,
      "metadata": {},
      "outputs": [],
      "source": [
        "#Define Mean Square Error Function\n",
        "\n",
        "def m_s_e(y_true, y_pred):\n",
        "    return ((y_true - y_pred) ** 2).mean()"
      ]
    },
    {
      "cell_type": "code",
      "execution_count": 5,
      "metadata": {
        "colab": {
          "base_uri": "https://localhost:8080/"
        },
        "id": "GpBlowHuwpCC",
        "outputId": "3330b658-3939-4e3d-bfd7-1aa9a24e36a0"
      },
      "outputs": [
        {
          "name": "stdout",
          "output_type": "stream",
          "text": [
            "Regression equation: y = 2.50 \n",
            "Mean Squared Error: 3.25\n"
          ]
        }
      ],
      "source": [
        "# Data of Regression Degree 0\n",
        "X_b_0 = np.c_[np.ones((4, 1))]\n",
        "\n",
        "# Calculate Beta\n",
        "beta_hat_0 = np.linalg.inv(X_b_0.T.dot(X_b_0)).dot(X_b_0.T).dot(Y)\n",
        "\n",
        "# Prediction\n",
        "y_pred_0 = X_b_0.dot(beta_hat_0)\n",
        "\n",
        "# Smoothing points\n",
        "tck0 = splrep(X, y_pred_0)\n",
        "xnew0 = np.linspace(X.min()-1, X.max()+1, 400)\n",
        "ynew0 = splev(xnew0, tck0)\n",
        "\n",
        "\n",
        "print(f\"Regression equation: y = {beta_hat_0[0]:.2f} \", end=\"\")\n",
        "print()\n",
        "\n",
        "mse0 = m_s_e(Y,y_pred_0)\n",
        "print(f\"Mean Squared Error: {mse0}\")"
      ]
    },
    {
      "cell_type": "code",
      "execution_count": 6,
      "metadata": {
        "colab": {
          "base_uri": "https://localhost:8080/"
        },
        "id": "4Gl0YNLowpCD",
        "outputId": "67d62eb5-75a7-48b0-fb18-c412370fa2bb"
      },
      "outputs": [
        {
          "name": "stdout",
          "output_type": "stream",
          "text": [
            "Regression equation: y = 1.50 + 0.40*x^1 \n",
            "Mean Squared Error: 3.05\n"
          ]
        }
      ],
      "source": [
        "# Data of Regression Degree 1\n",
        "X = np.array([1, 2, 3, 4]).reshape(-1, 1)\n",
        "Y = np.array([3, 2, 0, 5])\n",
        "X_b_1 = np.c_[np.ones((4, 1)), X]\n",
        "\n",
        "# Calculate Beta\n",
        "beta_hat_1 = np.linalg.inv(X_b_1.T.dot(X_b_1)).dot(X_b_1.T).dot(Y)\n",
        "\n",
        "# Prediction\n",
        "y_pred_1 = X_b_1.dot(beta_hat_1)\n",
        "\n",
        "# Smoothing points\n",
        "tck1 = splrep(X, y_pred_1)\n",
        "xnew1 = np.linspace(X.min()-1, X.max()+1, 400)\n",
        "ynew1 = splev(xnew1, tck1)\n",
        "\n",
        "\n",
        "print(f\"Regression equation: y = {beta_hat_1[0]:.2f} \", end=\"\")\n",
        "print(f\"+ {beta_hat_1[1]:.2f}*x^{1} \",end=\"\")\n",
        "#for power, coef in enumerate(beta_hat_1, 1):\n",
        "    #print(f\"+ {coef:.2f}*x^{power} \", end=\"\")\n",
        "print()\n",
        "\n",
        "mse1 = m_s_e(Y,y_pred_1)\n",
        "print(f\"Mean Squared Error: {mse1}\")"
      ]
    },
    {
      "cell_type": "code",
      "execution_count": 7,
      "metadata": {
        "colab": {
          "base_uri": "https://localhost:8080/"
        },
        "id": "cnDrBEn-wpCD",
        "outputId": "9229adc0-701a-475b-f534-988b7f32d5eb"
      },
      "outputs": [
        {
          "name": "stdout",
          "output_type": "stream",
          "text": [
            "Regression equation: y = 9.00 + -7.10*x^1 + 1.50*x^2 \n",
            "Mean Squared Error: 0.800000000000001\n"
          ]
        }
      ],
      "source": [
        "# Data of Regression Degree 2\n",
        "X = np.array([1, 2, 3, 4]).reshape(-1, 1)\n",
        "Y = np.array([3, 2, 0, 5])\n",
        "\n",
        "X_poly_2 = np.c_[X, X**2]\n",
        "#X_poly_b = np.c_[np.ones((4, 1)), X_poly_2]\n",
        "X_b_2 = np.c_[np.ones((4, 1)), X_poly_2]\n",
        "\n",
        "# Calculate Beta\n",
        "beta_hat_2 = np.linalg.inv(X_b_2.T.dot(X_b_2)).dot(X_b_2.T).dot(Y)\n",
        "\n",
        "# Prediction\n",
        "y_pred_2 = X_b_2.dot(beta_hat_2)\n",
        "\n",
        "# Smoothing points\n",
        "tck2 = splrep(X, y_pred_2)\n",
        "xnew2 = np.linspace(X.min()-1, X.max()+1, 400)\n",
        "ynew2 = splev(xnew2, tck2)\n",
        "\n",
        "print(f\"Regression equation: y = {beta_hat_2[0]:.2f} \", end=\"\")\n",
        "for power, coef in enumerate(beta_hat_2[1:], 1):\n",
        "    print(f\"+ {coef:.2f}*x^{power} \", end=\"\")\n",
        "print()\n",
        "\n",
        "mse2 = m_s_e(Y, y_pred_2)\n",
        "print(f\"Mean Squared Error: {mse2}\")"
      ]
    },
    {
      "cell_type": "code",
      "execution_count": 8,
      "metadata": {
        "colab": {
          "base_uri": "https://localhost:8080/"
        },
        "id": "tLrvYJ79wpCD",
        "outputId": "d516506c-e95e-40c0-e1d1-1ca657798f0f"
      },
      "outputs": [
        {
          "name": "stdout",
          "output_type": "stream",
          "text": [
            "Regression equation: y = -5.00 + 15.17*x^1 + -8.50*x^2 + 1.33*x^3 \n",
            "Mean Squared Error: 3.4942940895563015e-23\n"
          ]
        }
      ],
      "source": [
        "# Data of Regression Degree 2\n",
        "X = np.array([1, 2, 3, 4]).reshape(-1, 1)\n",
        "Y = np.array([3, 2, 0, 5])\n",
        "\n",
        "X_poly_3 = np.c_[X, X**2, X**3]\n",
        "X_b_3 = np.c_[np.ones((4, 1)), X_poly_3]\n",
        "\n",
        "# Calculate Beta\n",
        "beta_hat_3 = np.linalg.inv(X_b_3.T.dot(X_b_3)).dot(X_b_3.T).dot(Y)\n",
        "\n",
        "# Prediction\n",
        "y_pred_3 = X_b_3.dot(beta_hat_3)\n",
        "\n",
        "# Smoothing points\n",
        "tck3 = splrep(X, y_pred_3)\n",
        "xnew3 = np.linspace(X.min()-1, X.max()+1, 400)\n",
        "ynew3 = splev(xnew3, tck3)\n",
        "\n",
        "print(f\"Regression equation: y = {beta_hat_3[0]:.2f} \", end=\"\")\n",
        "for power, coef in enumerate(beta_hat_3[1:], 1):\n",
        "    print(f\"+ {coef:.2f}*x^{power} \", end=\"\")\n",
        "print()\n",
        "\n",
        "mse3 = m_s_e(Y, y_pred_3)\n",
        "print(f\"Mean Squared Error: {mse3}\")"
      ]
    },
    {
      "cell_type": "code",
      "execution_count": 9,
      "metadata": {
        "colab": {
          "base_uri": "https://localhost:8080/",
          "height": 472
        },
        "id": "lF-qnFXbwpCD",
        "outputId": "5f77b6e1-1e1c-4cdf-e4b9-dba0919bce7a"
      },
      "outputs": [
        {
          "data": {
            "image/png": "[encoded data removed]",
            "text/plain": [
              "<Figure size 640x480 with 1 Axes>"
            ]
          },
          "metadata": {},
          "output_type": "display_data"
        }
      ],
      "source": [
        "# Plot\n",
        "plt.scatter(X, Y, color='black', label='Data points')\n",
        "plt.plot(xnew0, ynew0, color='purple', label='k = 1')\n",
        "plt.plot(xnew1, ynew1, color='red', label='k = 2')\n",
        "plt.plot(xnew2, ynew2, color='blue', label='k = 3')\n",
        "plt.plot(xnew3, ynew3, color='green', label='k = 4')\n",
        "plt.legend()\n",
        "plt.title('Regression fitting')\n",
        "plt.xlabel('X')\n",
        "plt.ylabel('y')\n",
        "plt.ylim([-5,10])\n",
        "#plt.axhline(0, color='black',linewidth=2)\n",
        "plt.grid(True)\n",
        "plt.show()"
      ]
    },
    {
      "cell_type": "code",
      "execution_count": 10,
      "metadata": {
        "colab": {
          "base_uri": "https://localhost:8080/"
        },
        "id": "0aQ4yMQjwpCE",
        "outputId": "362b8def-a4e9-4d79-cd6d-f71ad5763f04"
      },
      "outputs": [
        {
          "name": "stdout",
          "output_type": "stream",
          "text": [
            "[0.0202184  0.07103606 0.0871293  0.11827443 0.14335329 0.38344152\n",
            " 0.41466194 0.4236548  0.43758721 0.46147936 0.52184832 0.52889492\n",
            " 0.54488318 0.5488135  0.56804456 0.60276338 0.63992102 0.64589411\n",
            " 0.71518937 0.77815675 0.78052918 0.79172504 0.79915856 0.83261985\n",
            " 0.87001215 0.891773   0.92559664 0.94466892 0.96366276 0.97861834]\n",
            "[0.0160515  0.18633072 0.27093191 0.45779226 0.61429749 0.44705979\n",
            " 0.26098669 0.21298697 0.14605935 0.05744468 0.01872691 0.03260062\n",
            " 0.0774432  0.0911547  0.17191835 0.36209434 0.59320316 0.62977836\n",
            " 0.95291885 0.96902658 0.96365399 0.93282921 0.90759339 0.75387227\n",
            " 0.53131908 0.39539073 0.20308283 0.11607271 0.05122763 0.01794023]\n"
          ]
        }
      ],
      "source": [
        "# Random seeding\n",
        "np.random.seed(0)\n",
        "\n",
        "# Generate xi\n",
        "xi = np.random.uniform(0, 1, 30)\n",
        "\n",
        "# Sort the order of xi\n",
        "sorted = np.argsort(xi)\n",
        "xi = xi[sorted]\n",
        "\n",
        "# Random sampling\n",
        "g_xi = []\n",
        "sin = []\n",
        "for i in range(30):\n",
        "    e = np.random.normal(0, 0.07, 1)\n",
        "    g_xi.append(np.sin(2 * np.pi * xi[i])**2 + e)\n",
        "    sin.append(np.sin(2 * np.pi * xi[i])**2)\n",
        "\n",
        "g_xi = np.array(g_xi)\n",
        "sin = np.array(sin)\n",
        "\n",
        "# Smoothing points\n",
        "tck4 = splrep(xi, sin)\n",
        "xnew4 = np.linspace(0, 1, 100)\n",
        "ynew4 = splev(xnew4, tck4)\n",
        "\n",
        "print(xi)\n",
        "print(sin)"
      ]
    },
    {
      "cell_type": "code",
      "execution_count": 11,
      "metadata": {
        "colab": {
          "base_uri": "https://localhost:8080/",
          "height": 447
        },
        "id": "QNEGkJFmwpCE",
        "outputId": "a05f7ab0-39cb-41cb-9cb5-8cd7fa54c3aa"
      },
      "outputs": [
        {
          "data": {
            "text/plain": [
              "(-0.05, 1.05)"
            ]
          },
          "execution_count": 11,
          "metadata": {},
          "output_type": "execute_result"
        },
        {
          "data": {
            "image/png": "[encoded data removed]",
            "text/plain": [
              "<Figure size 640x480 with 1 Axes>"
            ]
          },
          "metadata": {},
          "output_type": "display_data"
        }
      ],
      "source": [
        "plt.scatter(xi, g_xi, color='black',s = 2)\n",
        "plt.plot(xnew4, ynew4, color='black',linewidth = 0.8)\n",
        "plt.ylim([-0.05,1.05])"
      ]
    },
    {
      "cell_type": "markdown",
      "metadata": {
        "id": "HBbEVNIIwpCE"
      },
      "source": [
        "1.2 Filtered Boston housing and kernels"
      ]
    },
    {
      "cell_type": "code",
      "execution_count": 12,
      "metadata": {
        "colab": {
          "base_uri": "https://localhost:8080/",
          "height": 206
        },
        "id": "4P5rh4l6wpCE",
        "outputId": "7f4ce29f-e6a0-47a0-b85a-ab1acd718fb7"
      },
      "outputs": [
        {
          "data": {
            "text/html": [
              "<div>\n",
              "<style scoped>\n",
              "    .dataframe tbody tr th:only-of-type {\n",
              "        vertical-align: middle;\n",
              "    }\n",
              "\n",
              "    .dataframe tbody tr th {\n",
              "        vertical-align: top;\n",
              "    }\n",
              "\n",
              "    .dataframe thead th {\n",
              "        text-align: right;\n",
              "    }\n",
              "</style>\n",
              "<table border=\"1\" class=\"dataframe\">\n",
              "  <thead>\n",
              "    <tr style=\"text-align: right;\">\n",
              "      <th></th>\n",
              "      <th>CRIM</th>\n",
              "      <th>ZN</th>\n",
              "      <th>INDUS</th>\n",
              "      <th>CHAS</th>\n",
              "      <th>NOX</th>\n",
              "      <th>RM</th>\n",
              "      <th>AGE</th>\n",
              "      <th>DIS</th>\n",
              "      <th>RAD</th>\n",
              "      <th>TAX</th>\n",
              "      <th>PTRATIO</th>\n",
              "      <th>LSTAT</th>\n",
              "      <th>MEDV</th>\n",
              "    </tr>\n",
              "  </thead>\n",
              "  <tbody>\n",
              "    <tr>\n",
              "      <th>0</th>\n",
              "      <td>0.00632</td>\n",
              "      <td>18.0</td>\n",
              "      <td>2.31</td>\n",
              "      <td>0</td>\n",
              "      <td>0.538</td>\n",
              "      <td>6.575</td>\n",
              "      <td>65.2</td>\n",
              "      <td>4.0900</td>\n",
              "      <td>1</td>\n",
              "      <td>296</td>\n",
              "      <td>15.3</td>\n",
              "      <td>4.98</td>\n",
              "      <td>24.0</td>\n",
              "    </tr>\n",
              "    <tr>\n",
              "      <th>1</th>\n",
              "      <td>0.02731</td>\n",
              "      <td>0.0</td>\n",
              "      <td>7.07</td>\n",
              "      <td>0</td>\n",
              "      <td>0.469</td>\n",
              "      <td>6.421</td>\n",
              "      <td>78.9</td>\n",
              "      <td>4.9671</td>\n",
              "      <td>2</td>\n",
              "      <td>242</td>\n",
              "      <td>17.8</td>\n",
              "      <td>9.14</td>\n",
              "      <td>21.6</td>\n",
              "    </tr>\n",
              "    <tr>\n",
              "      <th>2</th>\n",
              "      <td>0.02729</td>\n",
              "      <td>0.0</td>\n",
              "      <td>7.07</td>\n",
              "      <td>0</td>\n",
              "      <td>0.469</td>\n",
              "      <td>7.185</td>\n",
              "      <td>61.1</td>\n",
              "      <td>4.9671</td>\n",
              "      <td>2</td>\n",
              "      <td>242</td>\n",
              "      <td>17.8</td>\n",
              "      <td>4.03</td>\n",
              "      <td>34.7</td>\n",
              "    </tr>\n",
              "    <tr>\n",
              "      <th>3</th>\n",
              "      <td>0.03237</td>\n",
              "      <td>0.0</td>\n",
              "      <td>2.18</td>\n",
              "      <td>0</td>\n",
              "      <td>0.458</td>\n",
              "      <td>6.998</td>\n",
              "      <td>45.8</td>\n",
              "      <td>6.0622</td>\n",
              "      <td>3</td>\n",
              "      <td>222</td>\n",
              "      <td>18.7</td>\n",
              "      <td>2.94</td>\n",
              "      <td>33.4</td>\n",
              "    </tr>\n",
              "    <tr>\n",
              "      <th>4</th>\n",
              "      <td>0.06905</td>\n",
              "      <td>0.0</td>\n",
              "      <td>2.18</td>\n",
              "      <td>0</td>\n",
              "      <td>0.458</td>\n",
              "      <td>7.147</td>\n",
              "      <td>54.2</td>\n",
              "      <td>6.0622</td>\n",
              "      <td>3</td>\n",
              "      <td>222</td>\n",
              "      <td>18.7</td>\n",
              "      <td>5.33</td>\n",
              "      <td>36.2</td>\n",
              "    </tr>\n",
              "  </tbody>\n",
              "</table>\n",
              "</div>"
            ],
            "text/plain": [
              "      CRIM   ZN   INDUS   CHAS    NOX     RM   AGE     DIS  RAD  TAX  PTRATIO  \\\n",
              "0  0.00632  18.0    2.31     0  0.538  6.575  65.2  4.0900    1  296     15.3   \n",
              "1  0.02731   0.0    7.07     0  0.469  6.421  78.9  4.9671    2  242     17.8   \n",
              "2  0.02729   0.0    7.07     0  0.469  7.185  61.1  4.9671    2  242     17.8   \n",
              "3  0.03237   0.0    2.18     0  0.458  6.998  45.8  6.0622    3  222     18.7   \n",
              "4  0.06905   0.0    2.18     0  0.458  7.147  54.2  6.0622    3  222     18.7   \n",
              "\n",
              "   LSTAT  MEDV  \n",
              "0   4.98  24.0  \n",
              "1   9.14  21.6  \n",
              "2   4.03  34.7  \n",
              "3   2.94  33.4  \n",
              "4   5.33  36.2  "
            ]
          },
          "execution_count": 12,
          "metadata": {},
          "output_type": "execute_result"
        }
      ],
      "source": [
        "data = pd.read_csv('./Boston-filtered.csv')\n",
        "data.head()"
      ]
    },
    {
      "cell_type": "code",
      "execution_count": 13,
      "metadata": {
        "id": "P7gerqi5wpCE"
      },
      "outputs": [],
      "source": [
        "labelname = 'MEDV'\n",
        "columnB = ' ZN '"
      ]
    },
    {
      "cell_type": "code",
      "execution_count": 14,
      "metadata": {
        "colab": {
          "base_uri": "https://localhost:8080/"
        },
        "id": "pR8eP12GwpCF",
        "outputId": "a5fbc0ef-b7ab-4d1b-b291-565cf5457557"
      },
      "outputs": [
        {
          "data": {
            "text/plain": [
              "Index(['CRIM', ' ZN ', 'INDUS ', 'CHAS', 'NOX', 'RM', 'AGE', 'DIS', 'RAD',\n",
              "       'TAX', 'PTRATIO', 'LSTAT', 'MEDV'],\n",
              "      dtype='object')"
            ]
          },
          "execution_count": 14,
          "metadata": {},
          "output_type": "execute_result"
        }
      ],
      "source": [
        "data.columns"
      ]
    },
    {
      "cell_type": "markdown",
      "metadata": {
        "id": "qmwaLwIqwpCF"
      },
      "source": [
        "CRIM - per capita crime rate by town\n",
        "ZN - proportion of residential land zoned for lots over 25,000 sq.ft.\n",
        "INDUS - proportion of non-retail business acres per town.\n",
        "CHAS - Charles River dummy variable (1 if tract bounds river; 0 otherwise)\n",
        "NOX - nitric oxides concentration (parts per 10 million)\n",
        "RM - average number of rooms per dwelling\n",
        "AGE - proportion of owner-occupied units built prior to 1940\n",
        "DIS - weighted distances to five Boston employment centres\n",
        "RAD - index of accessibility to radial highways\n",
        "TAX - full-value property-tax rate per $10,000\n",
        "PTRATIO - pupil-teacher ratio by town\n",
        "B - 1000(Bk - 0.63)^2 where Bk is the proportion of blacks by town\n",
        "LSTAT - % lower status of the population\n",
        "MEDV - Median value of owner-occupied homes in $1000's"
      ]
    },
    {
      "cell_type": "code",
      "execution_count": 15,
      "metadata": {
        "id": "pkibirfFwpCF"
      },
      "outputs": [],
      "source": [
        "np.random.seed(123)"
      ]
    },
    {
      "cell_type": "code",
      "execution_count": 16,
      "metadata": {
        "id": "-yijlL06wpCF"
      },
      "outputs": [],
      "source": [
        "def get_traintest(data,labelname,columnB, i): # normalization + split train & test\n",
        "  # drop all NA and inf\n",
        "  data = data.replace([np.inf, -np.inf], np.nan).dropna(axis=0)\n",
        "  # drop the colunm B\n",
        "  data = data.drop([columnB],axis=1)\n",
        "  # split train/test by test size = 1/3\n",
        "  train, test = train_test_split(data, test_size = 1/3, random_state=i)\n",
        "  # Get train x/y and test x/y\n",
        "  train_x = train.drop([labelname],axis=1)\n",
        "  train_y = train[labelname]\n",
        "  test_x = test.drop([labelname],axis=1)\n",
        "  test_y = test[labelname]\n",
        "  return train_x,train_y,test_x,test_y,train, test"
      ]
    },
    {
      "cell_type": "code",
      "execution_count": 17,
      "metadata": {
        "colab": {
          "base_uri": "https://localhost:8080/"
        },
        "id": "Gq3jld5iwpCF",
        "outputId": "7110d623-e3ff-4b8c-da05-fb89a992ee87"
      },
      "outputs": [
        {
          "name": "stdout",
          "output_type": "stream",
          "text": [
            "337\n"
          ]
        }
      ],
      "source": [
        "train_x,train_y,test_x,test_y,train, test = get_traintest(data,labelname,columnB, 100)\n",
        "print(train_x.shape[0])"
      ]
    },
    {
      "cell_type": "code",
      "execution_count": 18,
      "metadata": {
        "colab": {
          "base_uri": "https://localhost:8080/"
        },
        "id": "RrYdA7MJwpCF",
        "outputId": "cc7b93b6-553c-4dfd-fc67-7a0e7511898e"
      },
      "outputs": [
        {
          "data": {
            "text/plain": [
              "array([[1.],\n",
              "       [1.],\n",
              "       [1.],\n",
              "       [1.],\n",
              "       [1.]])"
            ]
          },
          "execution_count": 18,
          "metadata": {},
          "output_type": "execute_result"
        }
      ],
      "source": [
        "# Create a vector of ones\n",
        "train_rows = train_x.shape[0]\n",
        "test_rows = test_x.shape[0]\n",
        "ones_train = np.ones(train_rows).reshape(-1,1)\n",
        "ones_test = np.ones(test_rows).reshape(-1,1)\n",
        "ones_train[:5]"
      ]
    },
    {
      "cell_type": "code",
      "execution_count": 19,
      "metadata": {
        "id": "xsDTdAEA5TrF"
      },
      "outputs": [],
      "source": [
        "def evaluate_model(train_x, train_y, test_x, test_y):\n",
        "    # Create a vector of ones\n",
        "    train_rows = train_x.shape[0]\n",
        "    test_rows = test_x.shape[0]\n",
        "    ones_train = np.ones(train_rows).reshape(-1,1)\n",
        "    ones_test = np.ones(test_rows).reshape(-1,1)\n",
        "\n",
        "    # Data \n",
        "    X = train_x\n",
        "    Y = train_y\n",
        "    X_b = np.c_[np.ones((train_rows, 1)), X]\n",
        "    X_b_test = np.c_[np.ones((test_rows,1)),test_x]\n",
        "\n",
        "    # Calculate Beta\n",
        "    beta_hat = np.linalg.inv(X_b.T.dot(X_b)).dot(X_b.T).dot(Y)\n",
        "\n",
        "    # Prediction\n",
        "    y_train_pred = X_b.dot(beta_hat)\n",
        "    y_test_pred = X_b_test.dot(beta_hat)\n",
        "\n",
        "    mse_train = m_s_e(train_y, y_train_pred)\n",
        "    mse_test = m_s_e(test_y, y_test_pred)\n",
        "\n",
        "    return beta_hat, mse_train, mse_test"
      ]
    },
    {
      "cell_type": "markdown",
      "metadata": {},
      "source": [
        "# 1.2 (a)"
      ]
    },
    {
      "cell_type": "code",
      "execution_count": 20,
      "metadata": {
        "colab": {
          "base_uri": "https://localhost:8080/"
        },
        "id": "iDe9eUZh5iyR",
        "outputId": "e8b572a7-8b39-4c42-8fec-6b0e379a4fbb"
      },
      "outputs": [
        {
          "name": "stdout",
          "output_type": "stream",
          "text": [
            "Regression Function: y = 22.0475\n",
            "Train Errors: [86.5322, 82.5757, 81.9788, 86.2058, 70.5105, 80.0482, 81.1651, 88.4819, 87.4394, 83.2848, 78.5647, 83.2504, 84.7001, 86.8136, 85.8312, 83.9418, 91.6771, 88.4853, 85.6552, 71.6729]\n",
            "Test Errors: [80.4385, 88.2131, 89.2866, 80.8629, 113.1482, 93.1388, 90.9234, 76.3326, 78.4081, 87.0987, 96.6395, 86.7684, 84.0017, 80.0262, 81.9385, 85.4063, 71.0483, 76.4067, 82.0182, 110.5427]\n",
            "Average Train Errors: 83.4407\n",
            "Average Test Errors: 86.6324\n",
            "Standard Deviation of Train Errors (σ′): 5.1225\n",
            "Standard Deviation of Test Errors (σ′): 10.3287\n"
          ]
        }
      ],
      "source": [
        "num_splits = 20\n",
        "train_errors = []\n",
        "test_errors = []\n",
        "train_rows = train_x.shape[0]\n",
        "test_rows = test_x.shape[0]\n",
        "ones_train = np.ones(train_rows).reshape(-1,1)\n",
        "ones_test = np.ones(test_rows).reshape(-1,1)\n",
        "\n",
        "for i in range(num_splits):\n",
        "    train_x, train_y, test_x, test_y,train,test = get_traintest(data, labelname, columnB, i)\n",
        "\n",
        "    # Data \n",
        "    Y = train_y\n",
        "    X_b = np.ones((train_rows, 1))\n",
        "    X_b_test = np.ones((test_rows,1))\n",
        "\n",
        "    # Calculate Beta\n",
        "    beta_hat = np.linalg.inv(X_b.T.dot(X_b)).dot(X_b.T).dot(Y)\n",
        "\n",
        "    # Prediction\n",
        "    y_train_pred = X_b.dot(beta_hat)\n",
        "    y_test_pred = X_b_test.dot(beta_hat)\n",
        "\n",
        "    mse_train = m_s_e(train_y, y_train_pred)\n",
        "    mse_test = m_s_e(test_y, y_test_pred)\n",
        "\n",
        "    train_errors.append(round(mse_train,4))\n",
        "    test_errors.append(round(mse_test,4))\n",
        "\n",
        "# Standard deviation of errors\n",
        "train_errors_std = round(np.std(train_errors),4)\n",
        "test_errors_std = round(np.std(test_errors),4)\n",
        "\n",
        "# Mean of errors\n",
        "train_errors_mean = round(np.mean(train_errors),4)\n",
        "test_errors_mean = round(np.mean(test_errors),4)\n",
        "\n",
        "print(f\"Regression Function: y = {beta_hat[0]:.4f}\")\n",
        "print(f\"Train Errors: {train_errors}\")\n",
        "print(f\"Test Errors: {test_errors}\")\n",
        "print(f\"Average Train Errors: {train_errors_mean}\")\n",
        "print(f\"Average Test Errors: {test_errors_mean}\")\n",
        "print(f\"Standard Deviation of Train Errors (σ′): {train_errors_std}\")\n",
        "print(f\"Standard Deviation of Test Errors (σ′): {test_errors_std}\")\n"
      ]
    },
    {
      "cell_type": "code",
      "execution_count": 21,
      "metadata": {
        "colab": {
          "base_uri": "https://localhost:8080/",
          "height": 206
        },
        "id": "B9-3KpgqwpCG",
        "outputId": "2db93be4-d67f-436c-edb5-87310202b12d"
      },
      "outputs": [
        {
          "data": {
            "text/html": [
              "<div>\n",
              "<style scoped>\n",
              "    .dataframe tbody tr th:only-of-type {\n",
              "        vertical-align: middle;\n",
              "    }\n",
              "\n",
              "    .dataframe tbody tr th {\n",
              "        vertical-align: top;\n",
              "    }\n",
              "\n",
              "    .dataframe thead th {\n",
              "        text-align: right;\n",
              "    }\n",
              "</style>\n",
              "<table border=\"1\" class=\"dataframe\">\n",
              "  <thead>\n",
              "    <tr style=\"text-align: right;\">\n",
              "      <th></th>\n",
              "      <th>CRIM</th>\n",
              "      <th>INDUS</th>\n",
              "      <th>CHAS</th>\n",
              "      <th>NOX</th>\n",
              "      <th>RM</th>\n",
              "      <th>AGE</th>\n",
              "      <th>DIS</th>\n",
              "      <th>RAD</th>\n",
              "      <th>TAX</th>\n",
              "      <th>PTRATIO</th>\n",
              "      <th>LSTAT</th>\n",
              "      <th>Bias</th>\n",
              "    </tr>\n",
              "  </thead>\n",
              "  <tbody>\n",
              "    <tr>\n",
              "      <th>38</th>\n",
              "      <td>0.17505</td>\n",
              "      <td>5.96</td>\n",
              "      <td>0</td>\n",
              "      <td>0.499</td>\n",
              "      <td>5.966</td>\n",
              "      <td>30.2</td>\n",
              "      <td>3.8473</td>\n",
              "      <td>5</td>\n",
              "      <td>279</td>\n",
              "      <td>19.2</td>\n",
              "      <td>10.13</td>\n",
              "      <td>1.0</td>\n",
              "    </tr>\n",
              "    <tr>\n",
              "      <th>10</th>\n",
              "      <td>0.22489</td>\n",
              "      <td>7.87</td>\n",
              "      <td>0</td>\n",
              "      <td>0.524</td>\n",
              "      <td>6.377</td>\n",
              "      <td>94.3</td>\n",
              "      <td>6.3467</td>\n",
              "      <td>5</td>\n",
              "      <td>311</td>\n",
              "      <td>15.2</td>\n",
              "      <td>20.45</td>\n",
              "      <td>1.0</td>\n",
              "    </tr>\n",
              "    <tr>\n",
              "      <th>142</th>\n",
              "      <td>3.32105</td>\n",
              "      <td>19.58</td>\n",
              "      <td>1</td>\n",
              "      <td>0.871</td>\n",
              "      <td>5.403</td>\n",
              "      <td>100.0</td>\n",
              "      <td>1.3216</td>\n",
              "      <td>5</td>\n",
              "      <td>403</td>\n",
              "      <td>14.7</td>\n",
              "      <td>26.82</td>\n",
              "      <td>1.0</td>\n",
              "    </tr>\n",
              "    <tr>\n",
              "      <th>235</th>\n",
              "      <td>0.33045</td>\n",
              "      <td>6.20</td>\n",
              "      <td>0</td>\n",
              "      <td>0.507</td>\n",
              "      <td>6.086</td>\n",
              "      <td>61.5</td>\n",
              "      <td>3.6519</td>\n",
              "      <td>8</td>\n",
              "      <td>307</td>\n",
              "      <td>17.4</td>\n",
              "      <td>10.88</td>\n",
              "      <td>1.0</td>\n",
              "    </tr>\n",
              "    <tr>\n",
              "      <th>350</th>\n",
              "      <td>0.06211</td>\n",
              "      <td>1.25</td>\n",
              "      <td>0</td>\n",
              "      <td>0.429</td>\n",
              "      <td>6.490</td>\n",
              "      <td>44.4</td>\n",
              "      <td>8.7921</td>\n",
              "      <td>1</td>\n",
              "      <td>335</td>\n",
              "      <td>19.7</td>\n",
              "      <td>5.98</td>\n",
              "      <td>1.0</td>\n",
              "    </tr>\n",
              "  </tbody>\n",
              "</table>\n",
              "</div>"
            ],
            "text/plain": [
              "        CRIM  INDUS   CHAS    NOX     RM    AGE     DIS  RAD  TAX  PTRATIO  \\\n",
              "38   0.17505    5.96     0  0.499  5.966   30.2  3.8473    5  279     19.2   \n",
              "10   0.22489    7.87     0  0.524  6.377   94.3  6.3467    5  311     15.2   \n",
              "142  3.32105   19.58     1  0.871  5.403  100.0  1.3216    5  403     14.7   \n",
              "235  0.33045    6.20     0  0.507  6.086   61.5  3.6519    8  307     17.4   \n",
              "350  0.06211    1.25     0  0.429  6.490   44.4  8.7921    1  335     19.7   \n",
              "\n",
              "     LSTAT  Bias  \n",
              "38   10.13   1.0  \n",
              "10   20.45   1.0  \n",
              "142  26.82   1.0  \n",
              "235  10.88   1.0  \n",
              "350   5.98   1.0  "
            ]
          },
          "execution_count": 21,
          "metadata": {},
          "output_type": "execute_result"
        }
      ],
      "source": [
        "bias_train_x = train_x.copy()\n",
        "bias_train_x['Bias'] = ones_train\n",
        "bias_test_x = test_x.copy()\n",
        "bias_test_x['Bias'] = ones_test\n",
        "bias_test_x.head()"
      ]
    },
    {
      "cell_type": "code",
      "execution_count": 22,
      "metadata": {
        "colab": {
          "base_uri": "https://localhost:8080/",
          "height": 35
        },
        "id": "zKJOl1p6wpCG",
        "outputId": "010dbd59-0ab8-4fea-cd95-b60131588563"
      },
      "outputs": [
        {
          "data": {
            "text/plain": [
              "'DIS'"
            ]
          },
          "execution_count": 22,
          "metadata": {},
          "output_type": "execute_result"
        }
      ],
      "source": [
        "bias_train_x_selected = bias_train_x.iloc[:,[0,11]]\n",
        "train_x.columns[6]"
      ]
    },
    {
      "cell_type": "markdown",
      "metadata": {},
      "source": [
        "1.2 (c)"
      ]
    },
    {
      "cell_type": "code",
      "execution_count": 24,
      "metadata": {
        "colab": {
          "base_uri": "https://localhost:8080/"
        },
        "id": "goAghZ69wpCG",
        "outputId": "d17261d0-e389-4184-d4ce-4bdebac5179d"
      },
      "outputs": [
        {
          "name": "stdout",
          "output_type": "stream",
          "text": [
            "(20, 11)\n",
            "Weight Vector for the 1 trains: [-0.4266, -0.678, 6.0171, -34.4163, 9.2919, -0.128, 1.0821, -0.4248, -0.0264, -2.339, -0.9887]\n",
            "Weight Vector for the 2 trains: [-0.4251, -0.6275, 6.4037, -34.8911, 9.2842, -0.1348, 1.2981, -0.3842, -0.0235, -2.1333, -0.9164]\n",
            "Weight Vector for the 3 trains: [-0.3714, -0.5888, 8.8088, -30.4539, 8.3593, -0.1097, 0.8904, -0.3579, -0.0229, -2.0625, -0.945]\n",
            "Weight Vector for the 4 trains: [-0.3872, -0.6605, 9.1046, -33.9179, 9.2824, -0.1248, 1.1354, -0.3777, -0.0244, -2.1022, -0.9912]\n",
            "Weight Vector for the 5 trains: [-0.399, -0.643, 8.8639, -32.8169, 8.615, -0.1258, 1.1111, -0.3911, -0.025, -1.7494, -0.8774]\n",
            "Weight Vector for the 6 trains: [-0.4458, -0.6863, 2.8142, -34.1108, 8.8138, -0.1242, 1.1627, -0.44, -0.0267, -2.2265, -0.9404]\n",
            "Weight Vector for the 7 trains: [-0.4289, -0.6605, 7.2405, -32.0386, 8.9399, -0.1221, 1.0428, -0.3909, -0.0261, -2.1137, -0.9752]\n",
            "Weight Vector for the 8 trains: [-0.5456, -0.6517, 6.9816, -35.5697, 9.7717, -0.1181, 1.1419, -0.4099, -0.0263, -2.1485, -0.9379]\n",
            "Weight Vector for the 9 trains: [-0.3628, -0.6748, 6.0342, -36.8756, 9.3867, -0.1394, 1.2398, -0.3911, -0.0255, -2.2191, -1.0078]\n",
            "Weight Vector for the 10 trains: [-0.3787, -0.6076, 5.4848, -33.4138, 9.1255, -0.1141, 1.0105, -0.3956, -0.0247, -2.0077, -0.9261]\n",
            "Weight Vector for the 11 trains: [-0.3994, -0.6352, 5.0962, -34.4002, 8.7919, -0.1303, 1.183, -0.3705, -0.024, -2.1178, -0.9365]\n",
            "Weight Vector for the 12 trains: [-0.4254, -0.6335, 5.347, -33.4043, 9.1174, -0.1166, 0.9996, -0.4034, -0.0251, -2.142, -0.94]\n",
            "Weight Vector for the 13 trains: [-0.3593, -0.6077, 6.5724, -36.9553, 9.5319, -0.126, 1.2129, -0.3987, -0.0256, -2.0122, -0.9593]\n",
            "Weight Vector for the 14 trains: [-0.4204, -0.659, 8.9696, -34.6976, 9.2258, -0.1316, 1.1028, -0.3686, -0.0244, -2.1768, -0.9703]\n",
            "Weight Vector for the 15 trains: [-0.3831, -0.6551, 4.8793, -32.0444, 9.3107, -0.1195, 1.0251, -0.393, -0.0249, -2.0735, -0.9969]\n",
            "Weight Vector for the 16 trains: [-0.4435, -0.6444, 6.5687, -35.5766, 9.3873, -0.1145, 1.1249, -0.4029, -0.0264, -2.2206, -0.9529]\n",
            "Weight Vector for the 17 trains: [-0.3853, -0.6074, 7.0619, -30.2508, 9.7231, -0.1062, 0.7857, -0.3669, -0.024, -2.2054, -1.0081]\n",
            "Weight Vector for the 18 trains: [-0.5556, -0.6406, 8.9174, -36.61, 8.8624, -0.1386, 1.2759, -0.4232, -0.0264, -2.2388, -0.9788]\n",
            "Weight Vector for the 19 trains: [-0.4832, -0.6577, 8.6611, -33.4237, 9.6487, -0.1291, 1.2185, -0.4139, -0.0255, -2.2686, -1.0236]\n",
            "Weight Vector for the 20 trains: [-0.3631, -0.6271, 6.9677, -32.8607, 8.1832, -0.1226, 1.1015, -0.4074, -0.0258, -2.049, -0.8753]\n",
            "Average train MSE over 20 runs = [70.7042, 64.0506, 80.346, 68.1197, 43.6758, 71.3694, 78.0446, 71.5596, 65.3242, 62.0909, 37.4772]\n",
            "Average test MSE over 20 runs = [74.4875, 66.1629, 85.5694, 71.107, 43.8085, 74.9368, 81.7953, 73.5253, 67.2369, 64.1815, 40.8796]\n"
          ]
        }
      ],
      "source": [
        "# Store the weight and intercept vector\n",
        "weight = []\n",
        "intercept_vector = []\n",
        "\n",
        "N = len(train_x.columns)\n",
        "MSE_c_train = np.zeros((20,N))\n",
        "MSE_c_test = np.zeros((20,N))\n",
        "print(MSE_c_test.shape)\n",
        "\n",
        "# Random seed\n",
        "np.random.seed(100)\n",
        "\n",
        "# The function of linear regression regarding a single attribute\n",
        "def linear_regression_single(train_x, train_y, test_x, test_y, i):\n",
        "  train_errors = []\n",
        "  test_errors = []\n",
        "  # Repeat 20 times\n",
        "  for i in range(num_splits):\n",
        "    # Get the training set and test set\n",
        "    train_x, train_y, test_x, test_y,train,test = get_traintest(data, labelname, columnB, i)\n",
        "    \n",
        "    # Create vector of ones\n",
        "    ones_train = np.ones(train_rows).reshape(-1,1)\n",
        "    ones_test = np.ones(test_rows).reshape(-1,1)\n",
        "\n",
        "    MSE_c_train = []\n",
        "    MSE_c_test = []\n",
        "    weight = []\n",
        "    intercept_vector = []\n",
        "   \n",
        "    # Each attributes\n",
        "    for j in range(N):\n",
        "      train_x_selected = train_x.iloc[:,[j]]\n",
        "      test_x_selected = test_x.iloc[:,[j]]\n",
        "      beta_hat, mse_c_train, mse_c_test = evaluate_model(train_x_selected, train_y, test_x_selected, test_y)\n",
        "\n",
        "      # Store the fitting result\n",
        "      weight.append(round(beta_hat[1],4))\n",
        "      intercept_vector.append(round(beta_hat[0],4))\n",
        "      MSE_c_train.append(round(mse_c_train,4))\n",
        "      MSE_c_test.append(round(mse_c_test,4))\n",
        "\n",
        "    # Training and Test error of each time\n",
        "    train_errors.append(MSE_c_train)\n",
        "    test_errors.append(MSE_c_test)\n",
        "    print(f\"Weight Vector for the {i+1} trains: {weight}\")\n",
        "  return train_errors, test_errors\n",
        "\n",
        "train_errors, test_errors = linear_regression_single(train_x, train_y, test_x, test_y, 10)\n",
        "\n",
        "Average_train_MSE = []\n",
        "Average_test_MSE = []\n",
        "train_errors = np.array(train_errors)\n",
        "test_errors = np.array(test_errors)\n",
        "\n",
        "# Average MSE for each Regression model over 20 times\n",
        "for k in range(N): \n",
        "  Average_train_MSE.append(round(sum(train_errors[:,k])/num_splits,4))\n",
        "  Average_test_MSE.append(round(sum(test_errors[:,k])/num_splits,4))\n",
        "\n",
        "\n",
        "print(f\"Average train MSE over 20 runs = {Average_train_MSE}\")\n",
        "print(f\"Average test MSE over 20 runs = {Average_test_MSE}\")"
      ]
    },
    {
      "cell_type": "markdown",
      "metadata": {},
      "source": [
        "1.2 (d)"
      ]
    },
    {
      "cell_type": "code",
      "execution_count": 25,
      "metadata": {},
      "outputs": [
        {
          "name": "stdout",
          "output_type": "stream",
          "text": [
            "(20, 11)\n",
            "Weight Vector for the 1 trains: [-0.1098, -0.0222, 2.5898, -18.3339, 3.8738, -0.0147, -1.3129, 0.2119, -0.0081, -1.1868, -0.5242]\n",
            "Weight Vector for the 2 trains: [-0.0979, 0.0314, 3.3286, -22.1178, 3.6732, -0.0012, -1.0663, 0.2467, -0.0067, -1.1429, -0.5268]\n",
            "Weight Vector for the 3 trains: [-0.0848, -0.0512, 4.2976, -14.4753, 3.2898, 0.0141, -1.1081, 0.2322, -0.0082, -1.1409, -0.6352]\n",
            "Weight Vector for the 4 trains: [-0.1305, -0.0824, 4.1018, -13.2788, 3.5905, 0.0106, -0.9213, 0.2097, -0.0041, -0.9514, -0.6318]\n",
            "Weight Vector for the 5 trains: [-0.1164, -0.0503, 4.8642, -16.3036, 3.1196, -0.0049, -1.1882, 0.3091, -0.0124, -0.8714, -0.5326]\n",
            "Weight Vector for the 6 trains: [-0.1416, -0.0639, 1.0748, -12.877, 3.9418, -0.012, -1.1328, 0.2864, -0.0118, -1.0845, -0.5064]\n",
            "Weight Vector for the 7 trains: [-0.092, -0.0534, 2.8919, -15.3965, 3.5537, -0.0042, -1.2863, 0.2917, -0.0135, -1.0787, -0.5661]\n",
            "Weight Vector for the 8 trains: [-0.11, -0.0016, 2.7844, -16.7623, 5.2679, -0.0137, -1.1336, 0.2377, -0.0099, -1.0592, -0.413]\n",
            "Weight Vector for the 9 trains: [-0.1084, -0.009, 2.6831, -14.731, 3.8384, -0.0151, -1.195, 0.2424, -0.008, -1.1184, -0.6269]\n",
            "Weight Vector for the 10 trains: [-0.107, 0.0464, 2.384, -18.4815, 3.8227, 0.0011, -1.0994, 0.2622, -0.0102, -1.0152, -0.5659]\n",
            "Weight Vector for the 11 trains: [-0.1444, -0.0581, 1.8348, -18.9523, 3.4251, 0.0089, -1.201, 0.2391, -0.0085, -0.9878, -0.5831]\n",
            "Weight Vector for the 12 trains: [-0.1005, 0.0138, 3.1255, -20.7157, 3.9675, 0.021, -1.095, 0.3429, -0.0146, -1.0613, -0.5536]\n",
            "Weight Vector for the 13 trains: [-0.112, 0.0424, 3.4241, -20.399, 3.7145, 0.0173, -1.0864, 0.2885, -0.0113, -0.923, -0.6207]\n",
            "Weight Vector for the 14 trains: [-0.1616, -0.0088, 4.0356, -14.2896, 3.7155, 0.0023, -1.1092, 0.3241, -0.0109, -1.133, -0.605]\n",
            "Weight Vector for the 15 trains: [-0.1002, -0.0089, 2.6935, -17.6755, 4.2434, 0.0077, -1.0831, 0.2636, -0.0092, -1.0505, -0.5948]\n",
            "Weight Vector for the 16 trains: [-0.0858, 0.0655, 2.4081, -25.6435, 3.6188, 0.0167, -1.189, 0.3113, -0.0117, -1.1267, -0.5792]\n",
            "Weight Vector for the 17 trains: [-0.1553, -0.0336, 2.6932, -18.8726, 4.0402, 0.0217, -1.3179, 0.3334, -0.011, -1.1246, -0.6397]\n",
            "Weight Vector for the 18 trains: [-0.0508, 0.047, 2.4354, -17.5455, 3.6209, 0.0088, -0.9818, 0.2205, -0.0096, -1.0831, -0.6321]\n",
            "Weight Vector for the 19 trains: [-0.0963, -0.0169, 5.224, -19.8699, 3.7113, 0.0116, -0.994, 0.2973, -0.0083, -1.0989, -0.6496]\n",
            "Weight Vector for the 20 trains: [-0.1228, -0.046, 3.1051, -16.7246, 3.2186, -0.0162, -1.227, 0.2566, -0.0103, -0.9562, -0.4753]\n",
            "Average train MSE over 20 runs = 22.3136\n",
            "Average test MSE over 20 runs = 25.5468\n"
          ]
        }
      ],
      "source": [
        "weight = []\n",
        "intercept_vector = []\n",
        "\n",
        "N = len(train_x.columns)\n",
        "MSE_c_train = np.zeros((20,N))\n",
        "MSE_c_test = np.zeros((20,N))\n",
        "print(MSE_c_test.shape)\n",
        "\n",
        "np.random.seed(100)\n",
        "\n",
        "# The function of linear regression regarding all attributes, similar to the function in 1.2(c)\n",
        "def linear_regression_multiple(train_x, train_y, test_x, test_y, i):\n",
        "  train_errors = []\n",
        "  test_errors = []\n",
        "  # Repeat 20 times\n",
        "  for i in range(num_splits):\n",
        "    train_x, train_y, test_x, test_y,train,test = get_traintest(data, labelname, columnB, i)\n",
        "   \n",
        "    ones_train = np.ones(train_rows).reshape(-1,1)\n",
        "    ones_test = np.ones(test_rows).reshape(-1,1)\n",
        "    MSE_c_train = []\n",
        "    MSE_c_test = []\n",
        "    intercept_vector = []\n",
        "    \n",
        "    # Each attributes\n",
        "    train_x_selected = train_x\n",
        "    test_x_selected = test_x\n",
        "    beta_hat, mse_c_train, mse_c_test = evaluate_model(train_x_selected, train_y, test_x_selected, test_y)\n",
        "\n",
        "    weight = np.around(beta_hat,4)\n",
        "    intercept_vector.append(round(beta_hat[0],4))\n",
        "\n",
        "    train_errors.append(round(mse_c_train,4))\n",
        "    test_errors.append(round(mse_c_test,4))\n",
        "    print(f\"Weight Vector for the {i+1} trains: {list(weight)[1:]}\")\n",
        "  return train_errors, test_errors\n",
        "\n",
        "train_errors, test_errors = linear_regression_multiple(train_x, train_y, test_x, test_y, 10)\n",
        "\n",
        "Average_train_MSE = []\n",
        "Average_test_MSE = []\n",
        "train_errors = np.array(train_errors)\n",
        "test_errors = np.array(test_errors)\n",
        "\n",
        "#Average MSE for each Regression model over 20 times\n",
        "Average_train_MSE.append(round(sum(train_errors[:])/num_splits,4))\n",
        "Average_test_MSE.append(round(sum(test_errors[:])/num_splits,4))\n",
        "\n",
        "print(f\"Average train MSE over 20 runs = {Average_train_MSE[0]}\")\n",
        "print(f\"Average test MSE over 20 runs = {Average_test_MSE[0]}\")"
      ]
    },
    {
      "cell_type": "code",
      "execution_count": 26,
      "metadata": {
        "colab": {
          "base_uri": "https://localhost:8080/"
        },
        "id": "DQSQ9OYz81cw",
        "outputId": "2c170432-7d73-486a-d689-c1a6047dd39e"
      },
      "outputs": [
        {
          "name": "stdout",
          "output_type": "stream",
          "text": [
            "Weight Vector for the 1 trains: [-0.4266, -0.678, 6.0171, -34.4163, 9.2919, -0.128, 1.0821, -0.4248, -0.0264, -2.339, -0.9887]\n",
            "Weight Vector for the 2 trains: [-0.4251, -0.6275, 6.4037, -34.8911, 9.2842, -0.1348, 1.2981, -0.3842, -0.0235, -2.1333, -0.9164]\n",
            "Weight Vector for the 3 trains: [-0.3714, -0.5888, 8.8088, -30.4539, 8.3593, -0.1097, 0.8904, -0.3579, -0.0229, -2.0625, -0.945]\n",
            "Weight Vector for the 4 trains: [-0.3872, -0.6605, 9.1046, -33.9179, 9.2824, -0.1248, 1.1354, -0.3777, -0.0244, -2.1022, -0.9912]\n",
            "Weight Vector for the 5 trains: [-0.399, -0.643, 8.8639, -32.8169, 8.615, -0.1258, 1.1111, -0.3911, -0.025, -1.7494, -0.8774]\n",
            "Weight Vector for the 6 trains: [-0.4458, -0.6863, 2.8142, -34.1108, 8.8138, -0.1242, 1.1627, -0.44, -0.0267, -2.2265, -0.9404]\n",
            "Weight Vector for the 7 trains: [-0.4289, -0.6605, 7.2405, -32.0386, 8.9399, -0.1221, 1.0428, -0.3909, -0.0261, -2.1137, -0.9752]\n",
            "Weight Vector for the 8 trains: [-0.5456, -0.6517, 6.9816, -35.5697, 9.7717, -0.1181, 1.1419, -0.4099, -0.0263, -2.1485, -0.9379]\n",
            "Weight Vector for the 9 trains: [-0.3628, -0.6748, 6.0342, -36.8756, 9.3867, -0.1394, 1.2398, -0.3911, -0.0255, -2.2191, -1.0078]\n",
            "Weight Vector for the 10 trains: [-0.3787, -0.6076, 5.4848, -33.4138, 9.1255, -0.1141, 1.0105, -0.3956, -0.0247, -2.0077, -0.9261]\n",
            "Weight Vector for the 11 trains: [-0.3994, -0.6352, 5.0962, -34.4002, 8.7919, -0.1303, 1.183, -0.3705, -0.024, -2.1178, -0.9365]\n",
            "Weight Vector for the 12 trains: [-0.4254, -0.6335, 5.347, -33.4043, 9.1174, -0.1166, 0.9996, -0.4034, -0.0251, -2.142, -0.94]\n",
            "Weight Vector for the 13 trains: [-0.3593, -0.6077, 6.5724, -36.9553, 9.5319, -0.126, 1.2129, -0.3987, -0.0256, -2.0122, -0.9593]\n",
            "Weight Vector for the 14 trains: [-0.4204, -0.659, 8.9696, -34.6976, 9.2258, -0.1316, 1.1028, -0.3686, -0.0244, -2.1768, -0.9703]\n",
            "Weight Vector for the 15 trains: [-0.3831, -0.6551, 4.8793, -32.0444, 9.3107, -0.1195, 1.0251, -0.393, -0.0249, -2.0735, -0.9969]\n",
            "Weight Vector for the 16 trains: [-0.4435, -0.6444, 6.5687, -35.5766, 9.3873, -0.1145, 1.1249, -0.4029, -0.0264, -2.2206, -0.9529]\n",
            "Weight Vector for the 17 trains: [-0.3853, -0.6074, 7.0619, -30.2508, 9.7231, -0.1062, 0.7857, -0.3669, -0.024, -2.2054, -1.0081]\n",
            "Weight Vector for the 18 trains: [-0.5556, -0.6406, 8.9174, -36.61, 8.8624, -0.1386, 1.2759, -0.4232, -0.0264, -2.2388, -0.9788]\n",
            "Weight Vector for the 19 trains: [-0.4832, -0.6577, 8.6611, -33.4237, 9.6487, -0.1291, 1.2185, -0.4139, -0.0255, -2.2686, -1.0236]\n",
            "Weight Vector for the 20 trains: [-0.3631, -0.6271, 6.9677, -32.8607, 8.1832, -0.1226, 1.1015, -0.4074, -0.0258, -2.049, -0.8753]\n",
            "Weight Vector for the 1 trains: [-0.4266, -0.678, 6.0171, -34.4163, 9.2919, -0.128, 1.0821, -0.4248, -0.0264, -2.339, -0.9887]\n",
            "Weight Vector for the 2 trains: [-0.4251, -0.6275, 6.4037, -34.8911, 9.2842, -0.1348, 1.2981, -0.3842, -0.0235, -2.1333, -0.9164]\n",
            "Weight Vector for the 3 trains: [-0.3714, -0.5888, 8.8088, -30.4539, 8.3593, -0.1097, 0.8904, -0.3579, -0.0229, -2.0625, -0.945]\n",
            "Weight Vector for the 4 trains: [-0.3872, -0.6605, 9.1046, -33.9179, 9.2824, -0.1248, 1.1354, -0.3777, -0.0244, -2.1022, -0.9912]\n",
            "Weight Vector for the 5 trains: [-0.399, -0.643, 8.8639, -32.8169, 8.615, -0.1258, 1.1111, -0.3911, -0.025, -1.7494, -0.8774]\n",
            "Weight Vector for the 6 trains: [-0.4458, -0.6863, 2.8142, -34.1108, 8.8138, -0.1242, 1.1627, -0.44, -0.0267, -2.2265, -0.9404]\n",
            "Weight Vector for the 7 trains: [-0.4289, -0.6605, 7.2405, -32.0386, 8.9399, -0.1221, 1.0428, -0.3909, -0.0261, -2.1137, -0.9752]\n",
            "Weight Vector for the 8 trains: [-0.5456, -0.6517, 6.9816, -35.5697, 9.7717, -0.1181, 1.1419, -0.4099, -0.0263, -2.1485, -0.9379]\n",
            "Weight Vector for the 9 trains: [-0.3628, -0.6748, 6.0342, -36.8756, 9.3867, -0.1394, 1.2398, -0.3911, -0.0255, -2.2191, -1.0078]\n",
            "Weight Vector for the 10 trains: [-0.3787, -0.6076, 5.4848, -33.4138, 9.1255, -0.1141, 1.0105, -0.3956, -0.0247, -2.0077, -0.9261]\n",
            "Weight Vector for the 11 trains: [-0.3994, -0.6352, 5.0962, -34.4002, 8.7919, -0.1303, 1.183, -0.3705, -0.024, -2.1178, -0.9365]\n",
            "Weight Vector for the 12 trains: [-0.4254, -0.6335, 5.347, -33.4043, 9.1174, -0.1166, 0.9996, -0.4034, -0.0251, -2.142, -0.94]\n",
            "Weight Vector for the 13 trains: [-0.3593, -0.6077, 6.5724, -36.9553, 9.5319, -0.126, 1.2129, -0.3987, -0.0256, -2.0122, -0.9593]\n",
            "Weight Vector for the 14 trains: [-0.4204, -0.659, 8.9696, -34.6976, 9.2258, -0.1316, 1.1028, -0.3686, -0.0244, -2.1768, -0.9703]\n",
            "Weight Vector for the 15 trains: [-0.3831, -0.6551, 4.8793, -32.0444, 9.3107, -0.1195, 1.0251, -0.393, -0.0249, -2.0735, -0.9969]\n",
            "Weight Vector for the 16 trains: [-0.4435, -0.6444, 6.5687, -35.5766, 9.3873, -0.1145, 1.1249, -0.4029, -0.0264, -2.2206, -0.9529]\n",
            "Weight Vector for the 17 trains: [-0.3853, -0.6074, 7.0619, -30.2508, 9.7231, -0.1062, 0.7857, -0.3669, -0.024, -2.2054, -1.0081]\n",
            "Weight Vector for the 18 trains: [-0.5556, -0.6406, 8.9174, -36.61, 8.8624, -0.1386, 1.2759, -0.4232, -0.0264, -2.2388, -0.9788]\n",
            "Weight Vector for the 19 trains: [-0.4832, -0.6577, 8.6611, -33.4237, 9.6487, -0.1291, 1.2185, -0.4139, -0.0255, -2.2686, -1.0236]\n",
            "Weight Vector for the 20 trains: [-0.3631, -0.6271, 6.9677, -32.8607, 8.1832, -0.1226, 1.1015, -0.4074, -0.0258, -2.049, -0.8753]\n",
            "Weight Vector for the 1 trains: [-0.4266, -0.678, 6.0171, -34.4163, 9.2919, -0.128, 1.0821, -0.4248, -0.0264, -2.339, -0.9887]\n",
            "Weight Vector for the 2 trains: [-0.4251, -0.6275, 6.4037, -34.8911, 9.2842, -0.1348, 1.2981, -0.3842, -0.0235, -2.1333, -0.9164]\n",
            "Weight Vector for the 3 trains: [-0.3714, -0.5888, 8.8088, -30.4539, 8.3593, -0.1097, 0.8904, -0.3579, -0.0229, -2.0625, -0.945]\n",
            "Weight Vector for the 4 trains: [-0.3872, -0.6605, 9.1046, -33.9179, 9.2824, -0.1248, 1.1354, -0.3777, -0.0244, -2.1022, -0.9912]\n",
            "Weight Vector for the 5 trains: [-0.399, -0.643, 8.8639, -32.8169, 8.615, -0.1258, 1.1111, -0.3911, -0.025, -1.7494, -0.8774]\n",
            "Weight Vector for the 6 trains: [-0.4458, -0.6863, 2.8142, -34.1108, 8.8138, -0.1242, 1.1627, -0.44, -0.0267, -2.2265, -0.9404]\n",
            "Weight Vector for the 7 trains: [-0.4289, -0.6605, 7.2405, -32.0386, 8.9399, -0.1221, 1.0428, -0.3909, -0.0261, -2.1137, -0.9752]\n",
            "Weight Vector for the 8 trains: [-0.5456, -0.6517, 6.9816, -35.5697, 9.7717, -0.1181, 1.1419, -0.4099, -0.0263, -2.1485, -0.9379]\n",
            "Weight Vector for the 9 trains: [-0.3628, -0.6748, 6.0342, -36.8756, 9.3867, -0.1394, 1.2398, -0.3911, -0.0255, -2.2191, -1.0078]\n",
            "Weight Vector for the 10 trains: [-0.3787, -0.6076, 5.4848, -33.4138, 9.1255, -0.1141, 1.0105, -0.3956, -0.0247, -2.0077, -0.9261]\n",
            "Weight Vector for the 11 trains: [-0.3994, -0.6352, 5.0962, -34.4002, 8.7919, -0.1303, 1.183, -0.3705, -0.024, -2.1178, -0.9365]\n",
            "Weight Vector for the 12 trains: [-0.4254, -0.6335, 5.347, -33.4043, 9.1174, -0.1166, 0.9996, -0.4034, -0.0251, -2.142, -0.94]\n",
            "Weight Vector for the 13 trains: [-0.3593, -0.6077, 6.5724, -36.9553, 9.5319, -0.126, 1.2129, -0.3987, -0.0256, -2.0122, -0.9593]\n",
            "Weight Vector for the 14 trains: [-0.4204, -0.659, 8.9696, -34.6976, 9.2258, -0.1316, 1.1028, -0.3686, -0.0244, -2.1768, -0.9703]\n",
            "Weight Vector for the 15 trains: [-0.3831, -0.6551, 4.8793, -32.0444, 9.3107, -0.1195, 1.0251, -0.393, -0.0249, -2.0735, -0.9969]\n",
            "Weight Vector for the 16 trains: [-0.4435, -0.6444, 6.5687, -35.5766, 9.3873, -0.1145, 1.1249, -0.4029, -0.0264, -2.2206, -0.9529]\n",
            "Weight Vector for the 17 trains: [-0.3853, -0.6074, 7.0619, -30.2508, 9.7231, -0.1062, 0.7857, -0.3669, -0.024, -2.2054, -1.0081]\n",
            "Weight Vector for the 18 trains: [-0.5556, -0.6406, 8.9174, -36.61, 8.8624, -0.1386, 1.2759, -0.4232, -0.0264, -2.2388, -0.9788]\n",
            "Weight Vector for the 19 trains: [-0.4832, -0.6577, 8.6611, -33.4237, 9.6487, -0.1291, 1.2185, -0.4139, -0.0255, -2.2686, -1.0236]\n",
            "Weight Vector for the 20 trains: [-0.3631, -0.6271, 6.9677, -32.8607, 8.1832, -0.1226, 1.1015, -0.4074, -0.0258, -2.049, -0.8753]\n",
            "Weight Vector for the 1 trains: [-0.4266, -0.678, 6.0171, -34.4163, 9.2919, -0.128, 1.0821, -0.4248, -0.0264, -2.339, -0.9887]\n",
            "Weight Vector for the 2 trains: [-0.4251, -0.6275, 6.4037, -34.8911, 9.2842, -0.1348, 1.2981, -0.3842, -0.0235, -2.1333, -0.9164]\n",
            "Weight Vector for the 3 trains: [-0.3714, -0.5888, 8.8088, -30.4539, 8.3593, -0.1097, 0.8904, -0.3579, -0.0229, -2.0625, -0.945]\n",
            "Weight Vector for the 4 trains: [-0.3872, -0.6605, 9.1046, -33.9179, 9.2824, -0.1248, 1.1354, -0.3777, -0.0244, -2.1022, -0.9912]\n",
            "Weight Vector for the 5 trains: [-0.399, -0.643, 8.8639, -32.8169, 8.615, -0.1258, 1.1111, -0.3911, -0.025, -1.7494, -0.8774]\n",
            "Weight Vector for the 6 trains: [-0.4458, -0.6863, 2.8142, -34.1108, 8.8138, -0.1242, 1.1627, -0.44, -0.0267, -2.2265, -0.9404]\n",
            "Weight Vector for the 7 trains: [-0.4289, -0.6605, 7.2405, -32.0386, 8.9399, -0.1221, 1.0428, -0.3909, -0.0261, -2.1137, -0.9752]\n",
            "Weight Vector for the 8 trains: [-0.5456, -0.6517, 6.9816, -35.5697, 9.7717, -0.1181, 1.1419, -0.4099, -0.0263, -2.1485, -0.9379]\n",
            "Weight Vector for the 9 trains: [-0.3628, -0.6748, 6.0342, -36.8756, 9.3867, -0.1394, 1.2398, -0.3911, -0.0255, -2.2191, -1.0078]\n",
            "Weight Vector for the 10 trains: [-0.3787, -0.6076, 5.4848, -33.4138, 9.1255, -0.1141, 1.0105, -0.3956, -0.0247, -2.0077, -0.9261]\n",
            "Weight Vector for the 11 trains: [-0.3994, -0.6352, 5.0962, -34.4002, 8.7919, -0.1303, 1.183, -0.3705, -0.024, -2.1178, -0.9365]\n",
            "Weight Vector for the 12 trains: [-0.4254, -0.6335, 5.347, -33.4043, 9.1174, -0.1166, 0.9996, -0.4034, -0.0251, -2.142, -0.94]\n",
            "Weight Vector for the 13 trains: [-0.3593, -0.6077, 6.5724, -36.9553, 9.5319, -0.126, 1.2129, -0.3987, -0.0256, -2.0122, -0.9593]\n",
            "Weight Vector for the 14 trains: [-0.4204, -0.659, 8.9696, -34.6976, 9.2258, -0.1316, 1.1028, -0.3686, -0.0244, -2.1768, -0.9703]\n",
            "Weight Vector for the 15 trains: [-0.3831, -0.6551, 4.8793, -32.0444, 9.3107, -0.1195, 1.0251, -0.393, -0.0249, -2.0735, -0.9969]\n",
            "Weight Vector for the 16 trains: [-0.4435, -0.6444, 6.5687, -35.5766, 9.3873, -0.1145, 1.1249, -0.4029, -0.0264, -2.2206, -0.9529]\n",
            "Weight Vector for the 17 trains: [-0.3853, -0.6074, 7.0619, -30.2508, 9.7231, -0.1062, 0.7857, -0.3669, -0.024, -2.2054, -1.0081]\n",
            "Weight Vector for the 18 trains: [-0.5556, -0.6406, 8.9174, -36.61, 8.8624, -0.1386, 1.2759, -0.4232, -0.0264, -2.2388, -0.9788]\n",
            "Weight Vector for the 19 trains: [-0.4832, -0.6577, 8.6611, -33.4237, 9.6487, -0.1291, 1.2185, -0.4139, -0.0255, -2.2686, -1.0236]\n",
            "Weight Vector for the 20 trains: [-0.3631, -0.6271, 6.9677, -32.8607, 8.1832, -0.1226, 1.1015, -0.4074, -0.0258, -2.049, -0.8753]\n",
            "Weight Vector for the 1 trains: [-0.4266, -0.678, 6.0171, -34.4163, 9.2919, -0.128, 1.0821, -0.4248, -0.0264, -2.339, -0.9887]\n",
            "Weight Vector for the 2 trains: [-0.4251, -0.6275, 6.4037, -34.8911, 9.2842, -0.1348, 1.2981, -0.3842, -0.0235, -2.1333, -0.9164]\n",
            "Weight Vector for the 3 trains: [-0.3714, -0.5888, 8.8088, -30.4539, 8.3593, -0.1097, 0.8904, -0.3579, -0.0229, -2.0625, -0.945]\n",
            "Weight Vector for the 4 trains: [-0.3872, -0.6605, 9.1046, -33.9179, 9.2824, -0.1248, 1.1354, -0.3777, -0.0244, -2.1022, -0.9912]\n",
            "Weight Vector for the 5 trains: [-0.399, -0.643, 8.8639, -32.8169, 8.615, -0.1258, 1.1111, -0.3911, -0.025, -1.7494, -0.8774]\n",
            "Weight Vector for the 6 trains: [-0.4458, -0.6863, 2.8142, -34.1108, 8.8138, -0.1242, 1.1627, -0.44, -0.0267, -2.2265, -0.9404]\n",
            "Weight Vector for the 7 trains: [-0.4289, -0.6605, 7.2405, -32.0386, 8.9399, -0.1221, 1.0428, -0.3909, -0.0261, -2.1137, -0.9752]\n",
            "Weight Vector for the 8 trains: [-0.5456, -0.6517, 6.9816, -35.5697, 9.7717, -0.1181, 1.1419, -0.4099, -0.0263, -2.1485, -0.9379]\n",
            "Weight Vector for the 9 trains: [-0.3628, -0.6748, 6.0342, -36.8756, 9.3867, -0.1394, 1.2398, -0.3911, -0.0255, -2.2191, -1.0078]\n",
            "Weight Vector for the 10 trains: [-0.3787, -0.6076, 5.4848, -33.4138, 9.1255, -0.1141, 1.0105, -0.3956, -0.0247, -2.0077, -0.9261]\n",
            "Weight Vector for the 11 trains: [-0.3994, -0.6352, 5.0962, -34.4002, 8.7919, -0.1303, 1.183, -0.3705, -0.024, -2.1178, -0.9365]\n",
            "Weight Vector for the 12 trains: [-0.4254, -0.6335, 5.347, -33.4043, 9.1174, -0.1166, 0.9996, -0.4034, -0.0251, -2.142, -0.94]\n",
            "Weight Vector for the 13 trains: [-0.3593, -0.6077, 6.5724, -36.9553, 9.5319, -0.126, 1.2129, -0.3987, -0.0256, -2.0122, -0.9593]\n",
            "Weight Vector for the 14 trains: [-0.4204, -0.659, 8.9696, -34.6976, 9.2258, -0.1316, 1.1028, -0.3686, -0.0244, -2.1768, -0.9703]\n",
            "Weight Vector for the 15 trains: [-0.3831, -0.6551, 4.8793, -32.0444, 9.3107, -0.1195, 1.0251, -0.393, -0.0249, -2.0735, -0.9969]\n",
            "Weight Vector for the 16 trains: [-0.4435, -0.6444, 6.5687, -35.5766, 9.3873, -0.1145, 1.1249, -0.4029, -0.0264, -2.2206, -0.9529]\n",
            "Weight Vector for the 17 trains: [-0.3853, -0.6074, 7.0619, -30.2508, 9.7231, -0.1062, 0.7857, -0.3669, -0.024, -2.2054, -1.0081]\n",
            "Weight Vector for the 18 trains: [-0.5556, -0.6406, 8.9174, -36.61, 8.8624, -0.1386, 1.2759, -0.4232, -0.0264, -2.2388, -0.9788]\n",
            "Weight Vector for the 19 trains: [-0.4832, -0.6577, 8.6611, -33.4237, 9.6487, -0.1291, 1.2185, -0.4139, -0.0255, -2.2686, -1.0236]\n",
            "Weight Vector for the 20 trains: [-0.3631, -0.6271, 6.9677, -32.8607, 8.1832, -0.1226, 1.1015, -0.4074, -0.0258, -2.049, -0.8753]\n",
            "Weight Vector for the 1 trains: [-0.4266, -0.678, 6.0171, -34.4163, 9.2919, -0.128, 1.0821, -0.4248, -0.0264, -2.339, -0.9887]\n",
            "Weight Vector for the 2 trains: [-0.4251, -0.6275, 6.4037, -34.8911, 9.2842, -0.1348, 1.2981, -0.3842, -0.0235, -2.1333, -0.9164]\n",
            "Weight Vector for the 3 trains: [-0.3714, -0.5888, 8.8088, -30.4539, 8.3593, -0.1097, 0.8904, -0.3579, -0.0229, -2.0625, -0.945]\n",
            "Weight Vector for the 4 trains: [-0.3872, -0.6605, 9.1046, -33.9179, 9.2824, -0.1248, 1.1354, -0.3777, -0.0244, -2.1022, -0.9912]\n",
            "Weight Vector for the 5 trains: [-0.399, -0.643, 8.8639, -32.8169, 8.615, -0.1258, 1.1111, -0.3911, -0.025, -1.7494, -0.8774]\n",
            "Weight Vector for the 6 trains: [-0.4458, -0.6863, 2.8142, -34.1108, 8.8138, -0.1242, 1.1627, -0.44, -0.0267, -2.2265, -0.9404]\n",
            "Weight Vector for the 7 trains: [-0.4289, -0.6605, 7.2405, -32.0386, 8.9399, -0.1221, 1.0428, -0.3909, -0.0261, -2.1137, -0.9752]\n",
            "Weight Vector for the 8 trains: [-0.5456, -0.6517, 6.9816, -35.5697, 9.7717, -0.1181, 1.1419, -0.4099, -0.0263, -2.1485, -0.9379]\n",
            "Weight Vector for the 9 trains: [-0.3628, -0.6748, 6.0342, -36.8756, 9.3867, -0.1394, 1.2398, -0.3911, -0.0255, -2.2191, -1.0078]\n",
            "Weight Vector for the 10 trains: [-0.3787, -0.6076, 5.4848, -33.4138, 9.1255, -0.1141, 1.0105, -0.3956, -0.0247, -2.0077, -0.9261]\n",
            "Weight Vector for the 11 trains: [-0.3994, -0.6352, 5.0962, -34.4002, 8.7919, -0.1303, 1.183, -0.3705, -0.024, -2.1178, -0.9365]\n",
            "Weight Vector for the 12 trains: [-0.4254, -0.6335, 5.347, -33.4043, 9.1174, -0.1166, 0.9996, -0.4034, -0.0251, -2.142, -0.94]\n",
            "Weight Vector for the 13 trains: [-0.3593, -0.6077, 6.5724, -36.9553, 9.5319, -0.126, 1.2129, -0.3987, -0.0256, -2.0122, -0.9593]\n",
            "Weight Vector for the 14 trains: [-0.4204, -0.659, 8.9696, -34.6976, 9.2258, -0.1316, 1.1028, -0.3686, -0.0244, -2.1768, -0.9703]\n",
            "Weight Vector for the 15 trains: [-0.3831, -0.6551, 4.8793, -32.0444, 9.3107, -0.1195, 1.0251, -0.393, -0.0249, -2.0735, -0.9969]\n",
            "Weight Vector for the 16 trains: [-0.4435, -0.6444, 6.5687, -35.5766, 9.3873, -0.1145, 1.1249, -0.4029, -0.0264, -2.2206, -0.9529]\n",
            "Weight Vector for the 17 trains: [-0.3853, -0.6074, 7.0619, -30.2508, 9.7231, -0.1062, 0.7857, -0.3669, -0.024, -2.2054, -1.0081]\n",
            "Weight Vector for the 18 trains: [-0.5556, -0.6406, 8.9174, -36.61, 8.8624, -0.1386, 1.2759, -0.4232, -0.0264, -2.2388, -0.9788]\n",
            "Weight Vector for the 19 trains: [-0.4832, -0.6577, 8.6611, -33.4237, 9.6487, -0.1291, 1.2185, -0.4139, -0.0255, -2.2686, -1.0236]\n",
            "Weight Vector for the 20 trains: [-0.3631, -0.6271, 6.9677, -32.8607, 8.1832, -0.1226, 1.1015, -0.4074, -0.0258, -2.049, -0.8753]\n",
            "Weight Vector for the 1 trains: [-0.4266, -0.678, 6.0171, -34.4163, 9.2919, -0.128, 1.0821, -0.4248, -0.0264, -2.339, -0.9887]\n",
            "Weight Vector for the 2 trains: [-0.4251, -0.6275, 6.4037, -34.8911, 9.2842, -0.1348, 1.2981, -0.3842, -0.0235, -2.1333, -0.9164]\n",
            "Weight Vector for the 3 trains: [-0.3714, -0.5888, 8.8088, -30.4539, 8.3593, -0.1097, 0.8904, -0.3579, -0.0229, -2.0625, -0.945]\n",
            "Weight Vector for the 4 trains: [-0.3872, -0.6605, 9.1046, -33.9179, 9.2824, -0.1248, 1.1354, -0.3777, -0.0244, -2.1022, -0.9912]\n",
            "Weight Vector for the 5 trains: [-0.399, -0.643, 8.8639, -32.8169, 8.615, -0.1258, 1.1111, -0.3911, -0.025, -1.7494, -0.8774]\n",
            "Weight Vector for the 6 trains: [-0.4458, -0.6863, 2.8142, -34.1108, 8.8138, -0.1242, 1.1627, -0.44, -0.0267, -2.2265, -0.9404]\n",
            "Weight Vector for the 7 trains: [-0.4289, -0.6605, 7.2405, -32.0386, 8.9399, -0.1221, 1.0428, -0.3909, -0.0261, -2.1137, -0.9752]\n",
            "Weight Vector for the 8 trains: [-0.5456, -0.6517, 6.9816, -35.5697, 9.7717, -0.1181, 1.1419, -0.4099, -0.0263, -2.1485, -0.9379]\n",
            "Weight Vector for the 9 trains: [-0.3628, -0.6748, 6.0342, -36.8756, 9.3867, -0.1394, 1.2398, -0.3911, -0.0255, -2.2191, -1.0078]\n",
            "Weight Vector for the 10 trains: [-0.3787, -0.6076, 5.4848, -33.4138, 9.1255, -0.1141, 1.0105, -0.3956, -0.0247, -2.0077, -0.9261]\n",
            "Weight Vector for the 11 trains: [-0.3994, -0.6352, 5.0962, -34.4002, 8.7919, -0.1303, 1.183, -0.3705, -0.024, -2.1178, -0.9365]\n",
            "Weight Vector for the 12 trains: [-0.4254, -0.6335, 5.347, -33.4043, 9.1174, -0.1166, 0.9996, -0.4034, -0.0251, -2.142, -0.94]\n",
            "Weight Vector for the 13 trains: [-0.3593, -0.6077, 6.5724, -36.9553, 9.5319, -0.126, 1.2129, -0.3987, -0.0256, -2.0122, -0.9593]\n",
            "Weight Vector for the 14 trains: [-0.4204, -0.659, 8.9696, -34.6976, 9.2258, -0.1316, 1.1028, -0.3686, -0.0244, -2.1768, -0.9703]\n",
            "Weight Vector for the 15 trains: [-0.3831, -0.6551, 4.8793, -32.0444, 9.3107, -0.1195, 1.0251, -0.393, -0.0249, -2.0735, -0.9969]\n",
            "Weight Vector for the 16 trains: [-0.4435, -0.6444, 6.5687, -35.5766, 9.3873, -0.1145, 1.1249, -0.4029, -0.0264, -2.2206, -0.9529]\n",
            "Weight Vector for the 17 trains: [-0.3853, -0.6074, 7.0619, -30.2508, 9.7231, -0.1062, 0.7857, -0.3669, -0.024, -2.2054, -1.0081]\n",
            "Weight Vector for the 18 trains: [-0.5556, -0.6406, 8.9174, -36.61, 8.8624, -0.1386, 1.2759, -0.4232, -0.0264, -2.2388, -0.9788]\n",
            "Weight Vector for the 19 trains: [-0.4832, -0.6577, 8.6611, -33.4237, 9.6487, -0.1291, 1.2185, -0.4139, -0.0255, -2.2686, -1.0236]\n",
            "Weight Vector for the 20 trains: [-0.3631, -0.6271, 6.9677, -32.8607, 8.1832, -0.1226, 1.1015, -0.4074, -0.0258, -2.049, -0.8753]\n",
            "Weight Vector for the 1 trains: [-0.4266, -0.678, 6.0171, -34.4163, 9.2919, -0.128, 1.0821, -0.4248, -0.0264, -2.339, -0.9887]\n",
            "Weight Vector for the 2 trains: [-0.4251, -0.6275, 6.4037, -34.8911, 9.2842, -0.1348, 1.2981, -0.3842, -0.0235, -2.1333, -0.9164]\n",
            "Weight Vector for the 3 trains: [-0.3714, -0.5888, 8.8088, -30.4539, 8.3593, -0.1097, 0.8904, -0.3579, -0.0229, -2.0625, -0.945]\n",
            "Weight Vector for the 4 trains: [-0.3872, -0.6605, 9.1046, -33.9179, 9.2824, -0.1248, 1.1354, -0.3777, -0.0244, -2.1022, -0.9912]\n",
            "Weight Vector for the 5 trains: [-0.399, -0.643, 8.8639, -32.8169, 8.615, -0.1258, 1.1111, -0.3911, -0.025, -1.7494, -0.8774]\n",
            "Weight Vector for the 6 trains: [-0.4458, -0.6863, 2.8142, -34.1108, 8.8138, -0.1242, 1.1627, -0.44, -0.0267, -2.2265, -0.9404]\n",
            "Weight Vector for the 7 trains: [-0.4289, -0.6605, 7.2405, -32.0386, 8.9399, -0.1221, 1.0428, -0.3909, -0.0261, -2.1137, -0.9752]\n",
            "Weight Vector for the 8 trains: [-0.5456, -0.6517, 6.9816, -35.5697, 9.7717, -0.1181, 1.1419, -0.4099, -0.0263, -2.1485, -0.9379]\n",
            "Weight Vector for the 9 trains: [-0.3628, -0.6748, 6.0342, -36.8756, 9.3867, -0.1394, 1.2398, -0.3911, -0.0255, -2.2191, -1.0078]\n",
            "Weight Vector for the 10 trains: [-0.3787, -0.6076, 5.4848, -33.4138, 9.1255, -0.1141, 1.0105, -0.3956, -0.0247, -2.0077, -0.9261]\n",
            "Weight Vector for the 11 trains: [-0.3994, -0.6352, 5.0962, -34.4002, 8.7919, -0.1303, 1.183, -0.3705, -0.024, -2.1178, -0.9365]\n",
            "Weight Vector for the 12 trains: [-0.4254, -0.6335, 5.347, -33.4043, 9.1174, -0.1166, 0.9996, -0.4034, -0.0251, -2.142, -0.94]\n",
            "Weight Vector for the 13 trains: [-0.3593, -0.6077, 6.5724, -36.9553, 9.5319, -0.126, 1.2129, -0.3987, -0.0256, -2.0122, -0.9593]\n",
            "Weight Vector for the 14 trains: [-0.4204, -0.659, 8.9696, -34.6976, 9.2258, -0.1316, 1.1028, -0.3686, -0.0244, -2.1768, -0.9703]\n",
            "Weight Vector for the 15 trains: [-0.3831, -0.6551, 4.8793, -32.0444, 9.3107, -0.1195, 1.0251, -0.393, -0.0249, -2.0735, -0.9969]\n",
            "Weight Vector for the 16 trains: [-0.4435, -0.6444, 6.5687, -35.5766, 9.3873, -0.1145, 1.1249, -0.4029, -0.0264, -2.2206, -0.9529]\n",
            "Weight Vector for the 17 trains: [-0.3853, -0.6074, 7.0619, -30.2508, 9.7231, -0.1062, 0.7857, -0.3669, -0.024, -2.2054, -1.0081]\n",
            "Weight Vector for the 18 trains: [-0.5556, -0.6406, 8.9174, -36.61, 8.8624, -0.1386, 1.2759, -0.4232, -0.0264, -2.2388, -0.9788]\n",
            "Weight Vector for the 19 trains: [-0.4832, -0.6577, 8.6611, -33.4237, 9.6487, -0.1291, 1.2185, -0.4139, -0.0255, -2.2686, -1.0236]\n",
            "Weight Vector for the 20 trains: [-0.3631, -0.6271, 6.9677, -32.8607, 8.1832, -0.1226, 1.1015, -0.4074, -0.0258, -2.049, -0.8753]\n",
            "Weight Vector for the 1 trains: [-0.4266, -0.678, 6.0171, -34.4163, 9.2919, -0.128, 1.0821, -0.4248, -0.0264, -2.339, -0.9887]\n",
            "Weight Vector for the 2 trains: [-0.4251, -0.6275, 6.4037, -34.8911, 9.2842, -0.1348, 1.2981, -0.3842, -0.0235, -2.1333, -0.9164]\n",
            "Weight Vector for the 3 trains: [-0.3714, -0.5888, 8.8088, -30.4539, 8.3593, -0.1097, 0.8904, -0.3579, -0.0229, -2.0625, -0.945]\n",
            "Weight Vector for the 4 trains: [-0.3872, -0.6605, 9.1046, -33.9179, 9.2824, -0.1248, 1.1354, -0.3777, -0.0244, -2.1022, -0.9912]\n",
            "Weight Vector for the 5 trains: [-0.399, -0.643, 8.8639, -32.8169, 8.615, -0.1258, 1.1111, -0.3911, -0.025, -1.7494, -0.8774]\n",
            "Weight Vector for the 6 trains: [-0.4458, -0.6863, 2.8142, -34.1108, 8.8138, -0.1242, 1.1627, -0.44, -0.0267, -2.2265, -0.9404]\n",
            "Weight Vector for the 7 trains: [-0.4289, -0.6605, 7.2405, -32.0386, 8.9399, -0.1221, 1.0428, -0.3909, -0.0261, -2.1137, -0.9752]\n",
            "Weight Vector for the 8 trains: [-0.5456, -0.6517, 6.9816, -35.5697, 9.7717, -0.1181, 1.1419, -0.4099, -0.0263, -2.1485, -0.9379]\n",
            "Weight Vector for the 9 trains: [-0.3628, -0.6748, 6.0342, -36.8756, 9.3867, -0.1394, 1.2398, -0.3911, -0.0255, -2.2191, -1.0078]\n",
            "Weight Vector for the 10 trains: [-0.3787, -0.6076, 5.4848, -33.4138, 9.1255, -0.1141, 1.0105, -0.3956, -0.0247, -2.0077, -0.9261]\n",
            "Weight Vector for the 11 trains: [-0.3994, -0.6352, 5.0962, -34.4002, 8.7919, -0.1303, 1.183, -0.3705, -0.024, -2.1178, -0.9365]\n",
            "Weight Vector for the 12 trains: [-0.4254, -0.6335, 5.347, -33.4043, 9.1174, -0.1166, 0.9996, -0.4034, -0.0251, -2.142, -0.94]\n",
            "Weight Vector for the 13 trains: [-0.3593, -0.6077, 6.5724, -36.9553, 9.5319, -0.126, 1.2129, -0.3987, -0.0256, -2.0122, -0.9593]\n",
            "Weight Vector for the 14 trains: [-0.4204, -0.659, 8.9696, -34.6976, 9.2258, -0.1316, 1.1028, -0.3686, -0.0244, -2.1768, -0.9703]\n",
            "Weight Vector for the 15 trains: [-0.3831, -0.6551, 4.8793, -32.0444, 9.3107, -0.1195, 1.0251, -0.393, -0.0249, -2.0735, -0.9969]\n",
            "Weight Vector for the 16 trains: [-0.4435, -0.6444, 6.5687, -35.5766, 9.3873, -0.1145, 1.1249, -0.4029, -0.0264, -2.2206, -0.9529]\n",
            "Weight Vector for the 17 trains: [-0.3853, -0.6074, 7.0619, -30.2508, 9.7231, -0.1062, 0.7857, -0.3669, -0.024, -2.2054, -1.0081]\n",
            "Weight Vector for the 18 trains: [-0.5556, -0.6406, 8.9174, -36.61, 8.8624, -0.1386, 1.2759, -0.4232, -0.0264, -2.2388, -0.9788]\n",
            "Weight Vector for the 19 trains: [-0.4832, -0.6577, 8.6611, -33.4237, 9.6487, -0.1291, 1.2185, -0.4139, -0.0255, -2.2686, -1.0236]\n",
            "Weight Vector for the 20 trains: [-0.3631, -0.6271, 6.9677, -32.8607, 8.1832, -0.1226, 1.1015, -0.4074, -0.0258, -2.049, -0.8753]\n",
            "Weight Vector for the 1 trains: [-0.4266, -0.678, 6.0171, -34.4163, 9.2919, -0.128, 1.0821, -0.4248, -0.0264, -2.339, -0.9887]\n",
            "Weight Vector for the 2 trains: [-0.4251, -0.6275, 6.4037, -34.8911, 9.2842, -0.1348, 1.2981, -0.3842, -0.0235, -2.1333, -0.9164]\n",
            "Weight Vector for the 3 trains: [-0.3714, -0.5888, 8.8088, -30.4539, 8.3593, -0.1097, 0.8904, -0.3579, -0.0229, -2.0625, -0.945]\n",
            "Weight Vector for the 4 trains: [-0.3872, -0.6605, 9.1046, -33.9179, 9.2824, -0.1248, 1.1354, -0.3777, -0.0244, -2.1022, -0.9912]\n",
            "Weight Vector for the 5 trains: [-0.399, -0.643, 8.8639, -32.8169, 8.615, -0.1258, 1.1111, -0.3911, -0.025, -1.7494, -0.8774]\n",
            "Weight Vector for the 6 trains: [-0.4458, -0.6863, 2.8142, -34.1108, 8.8138, -0.1242, 1.1627, -0.44, -0.0267, -2.2265, -0.9404]\n",
            "Weight Vector for the 7 trains: [-0.4289, -0.6605, 7.2405, -32.0386, 8.9399, -0.1221, 1.0428, -0.3909, -0.0261, -2.1137, -0.9752]\n",
            "Weight Vector for the 8 trains: [-0.5456, -0.6517, 6.9816, -35.5697, 9.7717, -0.1181, 1.1419, -0.4099, -0.0263, -2.1485, -0.9379]\n",
            "Weight Vector for the 9 trains: [-0.3628, -0.6748, 6.0342, -36.8756, 9.3867, -0.1394, 1.2398, -0.3911, -0.0255, -2.2191, -1.0078]\n",
            "Weight Vector for the 10 trains: [-0.3787, -0.6076, 5.4848, -33.4138, 9.1255, -0.1141, 1.0105, -0.3956, -0.0247, -2.0077, -0.9261]\n",
            "Weight Vector for the 11 trains: [-0.3994, -0.6352, 5.0962, -34.4002, 8.7919, -0.1303, 1.183, -0.3705, -0.024, -2.1178, -0.9365]\n",
            "Weight Vector for the 12 trains: [-0.4254, -0.6335, 5.347, -33.4043, 9.1174, -0.1166, 0.9996, -0.4034, -0.0251, -2.142, -0.94]\n",
            "Weight Vector for the 13 trains: [-0.3593, -0.6077, 6.5724, -36.9553, 9.5319, -0.126, 1.2129, -0.3987, -0.0256, -2.0122, -0.9593]\n",
            "Weight Vector for the 14 trains: [-0.4204, -0.659, 8.9696, -34.6976, 9.2258, -0.1316, 1.1028, -0.3686, -0.0244, -2.1768, -0.9703]\n",
            "Weight Vector for the 15 trains: [-0.3831, -0.6551, 4.8793, -32.0444, 9.3107, -0.1195, 1.0251, -0.393, -0.0249, -2.0735, -0.9969]\n",
            "Weight Vector for the 16 trains: [-0.4435, -0.6444, 6.5687, -35.5766, 9.3873, -0.1145, 1.1249, -0.4029, -0.0264, -2.2206, -0.9529]\n",
            "Weight Vector for the 17 trains: [-0.3853, -0.6074, 7.0619, -30.2508, 9.7231, -0.1062, 0.7857, -0.3669, -0.024, -2.2054, -1.0081]\n",
            "Weight Vector for the 18 trains: [-0.5556, -0.6406, 8.9174, -36.61, 8.8624, -0.1386, 1.2759, -0.4232, -0.0264, -2.2388, -0.9788]\n",
            "Weight Vector for the 19 trains: [-0.4832, -0.6577, 8.6611, -33.4237, 9.6487, -0.1291, 1.2185, -0.4139, -0.0255, -2.2686, -1.0236]\n",
            "Weight Vector for the 20 trains: [-0.3631, -0.6271, 6.9677, -32.8607, 8.1832, -0.1226, 1.1015, -0.4074, -0.0258, -2.049, -0.8753]\n",
            "Weight Vector for the 1 trains: [-0.4266, -0.678, 6.0171, -34.4163, 9.2919, -0.128, 1.0821, -0.4248, -0.0264, -2.339, -0.9887]\n",
            "Weight Vector for the 2 trains: [-0.4251, -0.6275, 6.4037, -34.8911, 9.2842, -0.1348, 1.2981, -0.3842, -0.0235, -2.1333, -0.9164]\n",
            "Weight Vector for the 3 trains: [-0.3714, -0.5888, 8.8088, -30.4539, 8.3593, -0.1097, 0.8904, -0.3579, -0.0229, -2.0625, -0.945]\n",
            "Weight Vector for the 4 trains: [-0.3872, -0.6605, 9.1046, -33.9179, 9.2824, -0.1248, 1.1354, -0.3777, -0.0244, -2.1022, -0.9912]\n",
            "Weight Vector for the 5 trains: [-0.399, -0.643, 8.8639, -32.8169, 8.615, -0.1258, 1.1111, -0.3911, -0.025, -1.7494, -0.8774]\n",
            "Weight Vector for the 6 trains: [-0.4458, -0.6863, 2.8142, -34.1108, 8.8138, -0.1242, 1.1627, -0.44, -0.0267, -2.2265, -0.9404]\n",
            "Weight Vector for the 7 trains: [-0.4289, -0.6605, 7.2405, -32.0386, 8.9399, -0.1221, 1.0428, -0.3909, -0.0261, -2.1137, -0.9752]\n",
            "Weight Vector for the 8 trains: [-0.5456, -0.6517, 6.9816, -35.5697, 9.7717, -0.1181, 1.1419, -0.4099, -0.0263, -2.1485, -0.9379]\n",
            "Weight Vector for the 9 trains: [-0.3628, -0.6748, 6.0342, -36.8756, 9.3867, -0.1394, 1.2398, -0.3911, -0.0255, -2.2191, -1.0078]\n",
            "Weight Vector for the 10 trains: [-0.3787, -0.6076, 5.4848, -33.4138, 9.1255, -0.1141, 1.0105, -0.3956, -0.0247, -2.0077, -0.9261]\n",
            "Weight Vector for the 11 trains: [-0.3994, -0.6352, 5.0962, -34.4002, 8.7919, -0.1303, 1.183, -0.3705, -0.024, -2.1178, -0.9365]\n",
            "Weight Vector for the 12 trains: [-0.4254, -0.6335, 5.347, -33.4043, 9.1174, -0.1166, 0.9996, -0.4034, -0.0251, -2.142, -0.94]\n",
            "Weight Vector for the 13 trains: [-0.3593, -0.6077, 6.5724, -36.9553, 9.5319, -0.126, 1.2129, -0.3987, -0.0256, -2.0122, -0.9593]\n",
            "Weight Vector for the 14 trains: [-0.4204, -0.659, 8.9696, -34.6976, 9.2258, -0.1316, 1.1028, -0.3686, -0.0244, -2.1768, -0.9703]\n",
            "Weight Vector for the 15 trains: [-0.3831, -0.6551, 4.8793, -32.0444, 9.3107, -0.1195, 1.0251, -0.393, -0.0249, -2.0735, -0.9969]\n",
            "Weight Vector for the 16 trains: [-0.4435, -0.6444, 6.5687, -35.5766, 9.3873, -0.1145, 1.1249, -0.4029, -0.0264, -2.2206, -0.9529]\n",
            "Weight Vector for the 17 trains: [-0.3853, -0.6074, 7.0619, -30.2508, 9.7231, -0.1062, 0.7857, -0.3669, -0.024, -2.2054, -1.0081]\n",
            "Weight Vector for the 18 trains: [-0.5556, -0.6406, 8.9174, -36.61, 8.8624, -0.1386, 1.2759, -0.4232, -0.0264, -2.2388, -0.9788]\n",
            "Weight Vector for the 19 trains: [-0.4832, -0.6577, 8.6611, -33.4237, 9.6487, -0.1291, 1.2185, -0.4139, -0.0255, -2.2686, -1.0236]\n",
            "Weight Vector for the 20 trains: [-0.3631, -0.6271, 6.9677, -32.8607, 8.1832, -0.1226, 1.1015, -0.4074, -0.0258, -2.049, -0.8753]\n",
            "Weight Vector for the 1 trains: [-0.4266, -0.678, 6.0171, -34.4163, 9.2919, -0.128, 1.0821, -0.4248, -0.0264, -2.339, -0.9887]\n",
            "Weight Vector for the 2 trains: [-0.4251, -0.6275, 6.4037, -34.8911, 9.2842, -0.1348, 1.2981, -0.3842, -0.0235, -2.1333, -0.9164]\n",
            "Weight Vector for the 3 trains: [-0.3714, -0.5888, 8.8088, -30.4539, 8.3593, -0.1097, 0.8904, -0.3579, -0.0229, -2.0625, -0.945]\n",
            "Weight Vector for the 4 trains: [-0.3872, -0.6605, 9.1046, -33.9179, 9.2824, -0.1248, 1.1354, -0.3777, -0.0244, -2.1022, -0.9912]\n",
            "Weight Vector for the 5 trains: [-0.399, -0.643, 8.8639, -32.8169, 8.615, -0.1258, 1.1111, -0.3911, -0.025, -1.7494, -0.8774]\n",
            "Weight Vector for the 6 trains: [-0.4458, -0.6863, 2.8142, -34.1108, 8.8138, -0.1242, 1.1627, -0.44, -0.0267, -2.2265, -0.9404]\n",
            "Weight Vector for the 7 trains: [-0.4289, -0.6605, 7.2405, -32.0386, 8.9399, -0.1221, 1.0428, -0.3909, -0.0261, -2.1137, -0.9752]\n",
            "Weight Vector for the 8 trains: [-0.5456, -0.6517, 6.9816, -35.5697, 9.7717, -0.1181, 1.1419, -0.4099, -0.0263, -2.1485, -0.9379]\n",
            "Weight Vector for the 9 trains: [-0.3628, -0.6748, 6.0342, -36.8756, 9.3867, -0.1394, 1.2398, -0.3911, -0.0255, -2.2191, -1.0078]\n",
            "Weight Vector for the 10 trains: [-0.3787, -0.6076, 5.4848, -33.4138, 9.1255, -0.1141, 1.0105, -0.3956, -0.0247, -2.0077, -0.9261]\n",
            "Weight Vector for the 11 trains: [-0.3994, -0.6352, 5.0962, -34.4002, 8.7919, -0.1303, 1.183, -0.3705, -0.024, -2.1178, -0.9365]\n",
            "Weight Vector for the 12 trains: [-0.4254, -0.6335, 5.347, -33.4043, 9.1174, -0.1166, 0.9996, -0.4034, -0.0251, -2.142, -0.94]\n",
            "Weight Vector for the 13 trains: [-0.3593, -0.6077, 6.5724, -36.9553, 9.5319, -0.126, 1.2129, -0.3987, -0.0256, -2.0122, -0.9593]\n",
            "Weight Vector for the 14 trains: [-0.4204, -0.659, 8.9696, -34.6976, 9.2258, -0.1316, 1.1028, -0.3686, -0.0244, -2.1768, -0.9703]\n",
            "Weight Vector for the 15 trains: [-0.3831, -0.6551, 4.8793, -32.0444, 9.3107, -0.1195, 1.0251, -0.393, -0.0249, -2.0735, -0.9969]\n",
            "Weight Vector for the 16 trains: [-0.4435, -0.6444, 6.5687, -35.5766, 9.3873, -0.1145, 1.1249, -0.4029, -0.0264, -2.2206, -0.9529]\n",
            "Weight Vector for the 17 trains: [-0.3853, -0.6074, 7.0619, -30.2508, 9.7231, -0.1062, 0.7857, -0.3669, -0.024, -2.2054, -1.0081]\n",
            "Weight Vector for the 18 trains: [-0.5556, -0.6406, 8.9174, -36.61, 8.8624, -0.1386, 1.2759, -0.4232, -0.0264, -2.2388, -0.9788]\n",
            "Weight Vector for the 19 trains: [-0.4832, -0.6577, 8.6611, -33.4237, 9.6487, -0.1291, 1.2185, -0.4139, -0.0255, -2.2686, -1.0236]\n",
            "Weight Vector for the 20 trains: [-0.3631, -0.6271, 6.9677, -32.8607, 8.1832, -0.1226, 1.1015, -0.4074, -0.0258, -2.049, -0.8753]\n",
            "Weight Vector for the 1 trains: [-0.4266, -0.678, 6.0171, -34.4163, 9.2919, -0.128, 1.0821, -0.4248, -0.0264, -2.339, -0.9887]\n",
            "Weight Vector for the 2 trains: [-0.4251, -0.6275, 6.4037, -34.8911, 9.2842, -0.1348, 1.2981, -0.3842, -0.0235, -2.1333, -0.9164]\n",
            "Weight Vector for the 3 trains: [-0.3714, -0.5888, 8.8088, -30.4539, 8.3593, -0.1097, 0.8904, -0.3579, -0.0229, -2.0625, -0.945]\n",
            "Weight Vector for the 4 trains: [-0.3872, -0.6605, 9.1046, -33.9179, 9.2824, -0.1248, 1.1354, -0.3777, -0.0244, -2.1022, -0.9912]\n",
            "Weight Vector for the 5 trains: [-0.399, -0.643, 8.8639, -32.8169, 8.615, -0.1258, 1.1111, -0.3911, -0.025, -1.7494, -0.8774]\n",
            "Weight Vector for the 6 trains: [-0.4458, -0.6863, 2.8142, -34.1108, 8.8138, -0.1242, 1.1627, -0.44, -0.0267, -2.2265, -0.9404]\n",
            "Weight Vector for the 7 trains: [-0.4289, -0.6605, 7.2405, -32.0386, 8.9399, -0.1221, 1.0428, -0.3909, -0.0261, -2.1137, -0.9752]\n",
            "Weight Vector for the 8 trains: [-0.5456, -0.6517, 6.9816, -35.5697, 9.7717, -0.1181, 1.1419, -0.4099, -0.0263, -2.1485, -0.9379]\n",
            "Weight Vector for the 9 trains: [-0.3628, -0.6748, 6.0342, -36.8756, 9.3867, -0.1394, 1.2398, -0.3911, -0.0255, -2.2191, -1.0078]\n",
            "Weight Vector for the 10 trains: [-0.3787, -0.6076, 5.4848, -33.4138, 9.1255, -0.1141, 1.0105, -0.3956, -0.0247, -2.0077, -0.9261]\n",
            "Weight Vector for the 11 trains: [-0.3994, -0.6352, 5.0962, -34.4002, 8.7919, -0.1303, 1.183, -0.3705, -0.024, -2.1178, -0.9365]\n",
            "Weight Vector for the 12 trains: [-0.4254, -0.6335, 5.347, -33.4043, 9.1174, -0.1166, 0.9996, -0.4034, -0.0251, -2.142, -0.94]\n",
            "Weight Vector for the 13 trains: [-0.3593, -0.6077, 6.5724, -36.9553, 9.5319, -0.126, 1.2129, -0.3987, -0.0256, -2.0122, -0.9593]\n",
            "Weight Vector for the 14 trains: [-0.4204, -0.659, 8.9696, -34.6976, 9.2258, -0.1316, 1.1028, -0.3686, -0.0244, -2.1768, -0.9703]\n",
            "Weight Vector for the 15 trains: [-0.3831, -0.6551, 4.8793, -32.0444, 9.3107, -0.1195, 1.0251, -0.393, -0.0249, -2.0735, -0.9969]\n",
            "Weight Vector for the 16 trains: [-0.4435, -0.6444, 6.5687, -35.5766, 9.3873, -0.1145, 1.1249, -0.4029, -0.0264, -2.2206, -0.9529]\n",
            "Weight Vector for the 17 trains: [-0.3853, -0.6074, 7.0619, -30.2508, 9.7231, -0.1062, 0.7857, -0.3669, -0.024, -2.2054, -1.0081]\n",
            "Weight Vector for the 18 trains: [-0.5556, -0.6406, 8.9174, -36.61, 8.8624, -0.1386, 1.2759, -0.4232, -0.0264, -2.2388, -0.9788]\n",
            "Weight Vector for the 19 trains: [-0.4832, -0.6577, 8.6611, -33.4237, 9.6487, -0.1291, 1.2185, -0.4139, -0.0255, -2.2686, -1.0236]\n",
            "Weight Vector for the 20 trains: [-0.3631, -0.6271, 6.9677, -32.8607, 8.1832, -0.1226, 1.1015, -0.4074, -0.0258, -2.049, -0.8753]\n",
            "Weight Vector for the 1 trains: [-0.4266, -0.678, 6.0171, -34.4163, 9.2919, -0.128, 1.0821, -0.4248, -0.0264, -2.339, -0.9887]\n",
            "Weight Vector for the 2 trains: [-0.4251, -0.6275, 6.4037, -34.8911, 9.2842, -0.1348, 1.2981, -0.3842, -0.0235, -2.1333, -0.9164]\n",
            "Weight Vector for the 3 trains: [-0.3714, -0.5888, 8.8088, -30.4539, 8.3593, -0.1097, 0.8904, -0.3579, -0.0229, -2.0625, -0.945]\n",
            "Weight Vector for the 4 trains: [-0.3872, -0.6605, 9.1046, -33.9179, 9.2824, -0.1248, 1.1354, -0.3777, -0.0244, -2.1022, -0.9912]\n",
            "Weight Vector for the 5 trains: [-0.399, -0.643, 8.8639, -32.8169, 8.615, -0.1258, 1.1111, -0.3911, -0.025, -1.7494, -0.8774]\n",
            "Weight Vector for the 6 trains: [-0.4458, -0.6863, 2.8142, -34.1108, 8.8138, -0.1242, 1.1627, -0.44, -0.0267, -2.2265, -0.9404]\n",
            "Weight Vector for the 7 trains: [-0.4289, -0.6605, 7.2405, -32.0386, 8.9399, -0.1221, 1.0428, -0.3909, -0.0261, -2.1137, -0.9752]\n",
            "Weight Vector for the 8 trains: [-0.5456, -0.6517, 6.9816, -35.5697, 9.7717, -0.1181, 1.1419, -0.4099, -0.0263, -2.1485, -0.9379]\n",
            "Weight Vector for the 9 trains: [-0.3628, -0.6748, 6.0342, -36.8756, 9.3867, -0.1394, 1.2398, -0.3911, -0.0255, -2.2191, -1.0078]\n",
            "Weight Vector for the 10 trains: [-0.3787, -0.6076, 5.4848, -33.4138, 9.1255, -0.1141, 1.0105, -0.3956, -0.0247, -2.0077, -0.9261]\n",
            "Weight Vector for the 11 trains: [-0.3994, -0.6352, 5.0962, -34.4002, 8.7919, -0.1303, 1.183, -0.3705, -0.024, -2.1178, -0.9365]\n",
            "Weight Vector for the 12 trains: [-0.4254, -0.6335, 5.347, -33.4043, 9.1174, -0.1166, 0.9996, -0.4034, -0.0251, -2.142, -0.94]\n",
            "Weight Vector for the 13 trains: [-0.3593, -0.6077, 6.5724, -36.9553, 9.5319, -0.126, 1.2129, -0.3987, -0.0256, -2.0122, -0.9593]\n",
            "Weight Vector for the 14 trains: [-0.4204, -0.659, 8.9696, -34.6976, 9.2258, -0.1316, 1.1028, -0.3686, -0.0244, -2.1768, -0.9703]\n",
            "Weight Vector for the 15 trains: [-0.3831, -0.6551, 4.8793, -32.0444, 9.3107, -0.1195, 1.0251, -0.393, -0.0249, -2.0735, -0.9969]\n",
            "Weight Vector for the 16 trains: [-0.4435, -0.6444, 6.5687, -35.5766, 9.3873, -0.1145, 1.1249, -0.4029, -0.0264, -2.2206, -0.9529]\n",
            "Weight Vector for the 17 trains: [-0.3853, -0.6074, 7.0619, -30.2508, 9.7231, -0.1062, 0.7857, -0.3669, -0.024, -2.2054, -1.0081]\n",
            "Weight Vector for the 18 trains: [-0.5556, -0.6406, 8.9174, -36.61, 8.8624, -0.1386, 1.2759, -0.4232, -0.0264, -2.2388, -0.9788]\n",
            "Weight Vector for the 19 trains: [-0.4832, -0.6577, 8.6611, -33.4237, 9.6487, -0.1291, 1.2185, -0.4139, -0.0255, -2.2686, -1.0236]\n",
            "Weight Vector for the 20 trains: [-0.3631, -0.6271, 6.9677, -32.8607, 8.1832, -0.1226, 1.1015, -0.4074, -0.0258, -2.049, -0.8753]\n",
            "Weight Vector for the 1 trains: [-0.4266, -0.678, 6.0171, -34.4163, 9.2919, -0.128, 1.0821, -0.4248, -0.0264, -2.339, -0.9887]\n",
            "Weight Vector for the 2 trains: [-0.4251, -0.6275, 6.4037, -34.8911, 9.2842, -0.1348, 1.2981, -0.3842, -0.0235, -2.1333, -0.9164]\n",
            "Weight Vector for the 3 trains: [-0.3714, -0.5888, 8.8088, -30.4539, 8.3593, -0.1097, 0.8904, -0.3579, -0.0229, -2.0625, -0.945]\n",
            "Weight Vector for the 4 trains: [-0.3872, -0.6605, 9.1046, -33.9179, 9.2824, -0.1248, 1.1354, -0.3777, -0.0244, -2.1022, -0.9912]\n",
            "Weight Vector for the 5 trains: [-0.399, -0.643, 8.8639, -32.8169, 8.615, -0.1258, 1.1111, -0.3911, -0.025, -1.7494, -0.8774]\n",
            "Weight Vector for the 6 trains: [-0.4458, -0.6863, 2.8142, -34.1108, 8.8138, -0.1242, 1.1627, -0.44, -0.0267, -2.2265, -0.9404]\n",
            "Weight Vector for the 7 trains: [-0.4289, -0.6605, 7.2405, -32.0386, 8.9399, -0.1221, 1.0428, -0.3909, -0.0261, -2.1137, -0.9752]\n",
            "Weight Vector for the 8 trains: [-0.5456, -0.6517, 6.9816, -35.5697, 9.7717, -0.1181, 1.1419, -0.4099, -0.0263, -2.1485, -0.9379]\n",
            "Weight Vector for the 9 trains: [-0.3628, -0.6748, 6.0342, -36.8756, 9.3867, -0.1394, 1.2398, -0.3911, -0.0255, -2.2191, -1.0078]\n",
            "Weight Vector for the 10 trains: [-0.3787, -0.6076, 5.4848, -33.4138, 9.1255, -0.1141, 1.0105, -0.3956, -0.0247, -2.0077, -0.9261]\n",
            "Weight Vector for the 11 trains: [-0.3994, -0.6352, 5.0962, -34.4002, 8.7919, -0.1303, 1.183, -0.3705, -0.024, -2.1178, -0.9365]\n",
            "Weight Vector for the 12 trains: [-0.4254, -0.6335, 5.347, -33.4043, 9.1174, -0.1166, 0.9996, -0.4034, -0.0251, -2.142, -0.94]\n",
            "Weight Vector for the 13 trains: [-0.3593, -0.6077, 6.5724, -36.9553, 9.5319, -0.126, 1.2129, -0.3987, -0.0256, -2.0122, -0.9593]\n",
            "Weight Vector for the 14 trains: [-0.4204, -0.659, 8.9696, -34.6976, 9.2258, -0.1316, 1.1028, -0.3686, -0.0244, -2.1768, -0.9703]\n",
            "Weight Vector for the 15 trains: [-0.3831, -0.6551, 4.8793, -32.0444, 9.3107, -0.1195, 1.0251, -0.393, -0.0249, -2.0735, -0.9969]\n",
            "Weight Vector for the 16 trains: [-0.4435, -0.6444, 6.5687, -35.5766, 9.3873, -0.1145, 1.1249, -0.4029, -0.0264, -2.2206, -0.9529]\n",
            "Weight Vector for the 17 trains: [-0.3853, -0.6074, 7.0619, -30.2508, 9.7231, -0.1062, 0.7857, -0.3669, -0.024, -2.2054, -1.0081]\n",
            "Weight Vector for the 18 trains: [-0.5556, -0.6406, 8.9174, -36.61, 8.8624, -0.1386, 1.2759, -0.4232, -0.0264, -2.2388, -0.9788]\n",
            "Weight Vector for the 19 trains: [-0.4832, -0.6577, 8.6611, -33.4237, 9.6487, -0.1291, 1.2185, -0.4139, -0.0255, -2.2686, -1.0236]\n",
            "Weight Vector for the 20 trains: [-0.3631, -0.6271, 6.9677, -32.8607, 8.1832, -0.1226, 1.1015, -0.4074, -0.0258, -2.049, -0.8753]\n",
            "Weight Vector for the 1 trains: [-0.4266, -0.678, 6.0171, -34.4163, 9.2919, -0.128, 1.0821, -0.4248, -0.0264, -2.339, -0.9887]\n",
            "Weight Vector for the 2 trains: [-0.4251, -0.6275, 6.4037, -34.8911, 9.2842, -0.1348, 1.2981, -0.3842, -0.0235, -2.1333, -0.9164]\n",
            "Weight Vector for the 3 trains: [-0.3714, -0.5888, 8.8088, -30.4539, 8.3593, -0.1097, 0.8904, -0.3579, -0.0229, -2.0625, -0.945]\n",
            "Weight Vector for the 4 trains: [-0.3872, -0.6605, 9.1046, -33.9179, 9.2824, -0.1248, 1.1354, -0.3777, -0.0244, -2.1022, -0.9912]\n",
            "Weight Vector for the 5 trains: [-0.399, -0.643, 8.8639, -32.8169, 8.615, -0.1258, 1.1111, -0.3911, -0.025, -1.7494, -0.8774]\n",
            "Weight Vector for the 6 trains: [-0.4458, -0.6863, 2.8142, -34.1108, 8.8138, -0.1242, 1.1627, -0.44, -0.0267, -2.2265, -0.9404]\n",
            "Weight Vector for the 7 trains: [-0.4289, -0.6605, 7.2405, -32.0386, 8.9399, -0.1221, 1.0428, -0.3909, -0.0261, -2.1137, -0.9752]\n",
            "Weight Vector for the 8 trains: [-0.5456, -0.6517, 6.9816, -35.5697, 9.7717, -0.1181, 1.1419, -0.4099, -0.0263, -2.1485, -0.9379]\n",
            "Weight Vector for the 9 trains: [-0.3628, -0.6748, 6.0342, -36.8756, 9.3867, -0.1394, 1.2398, -0.3911, -0.0255, -2.2191, -1.0078]\n",
            "Weight Vector for the 10 trains: [-0.3787, -0.6076, 5.4848, -33.4138, 9.1255, -0.1141, 1.0105, -0.3956, -0.0247, -2.0077, -0.9261]\n",
            "Weight Vector for the 11 trains: [-0.3994, -0.6352, 5.0962, -34.4002, 8.7919, -0.1303, 1.183, -0.3705, -0.024, -2.1178, -0.9365]\n",
            "Weight Vector for the 12 trains: [-0.4254, -0.6335, 5.347, -33.4043, 9.1174, -0.1166, 0.9996, -0.4034, -0.0251, -2.142, -0.94]\n",
            "Weight Vector for the 13 trains: [-0.3593, -0.6077, 6.5724, -36.9553, 9.5319, -0.126, 1.2129, -0.3987, -0.0256, -2.0122, -0.9593]\n",
            "Weight Vector for the 14 trains: [-0.4204, -0.659, 8.9696, -34.6976, 9.2258, -0.1316, 1.1028, -0.3686, -0.0244, -2.1768, -0.9703]\n",
            "Weight Vector for the 15 trains: [-0.3831, -0.6551, 4.8793, -32.0444, 9.3107, -0.1195, 1.0251, -0.393, -0.0249, -2.0735, -0.9969]\n",
            "Weight Vector for the 16 trains: [-0.4435, -0.6444, 6.5687, -35.5766, 9.3873, -0.1145, 1.1249, -0.4029, -0.0264, -2.2206, -0.9529]\n",
            "Weight Vector for the 17 trains: [-0.3853, -0.6074, 7.0619, -30.2508, 9.7231, -0.1062, 0.7857, -0.3669, -0.024, -2.2054, -1.0081]\n",
            "Weight Vector for the 18 trains: [-0.5556, -0.6406, 8.9174, -36.61, 8.8624, -0.1386, 1.2759, -0.4232, -0.0264, -2.2388, -0.9788]\n",
            "Weight Vector for the 19 trains: [-0.4832, -0.6577, 8.6611, -33.4237, 9.6487, -0.1291, 1.2185, -0.4139, -0.0255, -2.2686, -1.0236]\n",
            "Weight Vector for the 20 trains: [-0.3631, -0.6271, 6.9677, -32.8607, 8.1832, -0.1226, 1.1015, -0.4074, -0.0258, -2.049, -0.8753]\n",
            "Weight Vector for the 1 trains: [-0.4266, -0.678, 6.0171, -34.4163, 9.2919, -0.128, 1.0821, -0.4248, -0.0264, -2.339, -0.9887]\n",
            "Weight Vector for the 2 trains: [-0.4251, -0.6275, 6.4037, -34.8911, 9.2842, -0.1348, 1.2981, -0.3842, -0.0235, -2.1333, -0.9164]\n",
            "Weight Vector for the 3 trains: [-0.3714, -0.5888, 8.8088, -30.4539, 8.3593, -0.1097, 0.8904, -0.3579, -0.0229, -2.0625, -0.945]\n",
            "Weight Vector for the 4 trains: [-0.3872, -0.6605, 9.1046, -33.9179, 9.2824, -0.1248, 1.1354, -0.3777, -0.0244, -2.1022, -0.9912]\n",
            "Weight Vector for the 5 trains: [-0.399, -0.643, 8.8639, -32.8169, 8.615, -0.1258, 1.1111, -0.3911, -0.025, -1.7494, -0.8774]\n",
            "Weight Vector for the 6 trains: [-0.4458, -0.6863, 2.8142, -34.1108, 8.8138, -0.1242, 1.1627, -0.44, -0.0267, -2.2265, -0.9404]\n",
            "Weight Vector for the 7 trains: [-0.4289, -0.6605, 7.2405, -32.0386, 8.9399, -0.1221, 1.0428, -0.3909, -0.0261, -2.1137, -0.9752]\n",
            "Weight Vector for the 8 trains: [-0.5456, -0.6517, 6.9816, -35.5697, 9.7717, -0.1181, 1.1419, -0.4099, -0.0263, -2.1485, -0.9379]\n",
            "Weight Vector for the 9 trains: [-0.3628, -0.6748, 6.0342, -36.8756, 9.3867, -0.1394, 1.2398, -0.3911, -0.0255, -2.2191, -1.0078]\n",
            "Weight Vector for the 10 trains: [-0.3787, -0.6076, 5.4848, -33.4138, 9.1255, -0.1141, 1.0105, -0.3956, -0.0247, -2.0077, -0.9261]\n",
            "Weight Vector for the 11 trains: [-0.3994, -0.6352, 5.0962, -34.4002, 8.7919, -0.1303, 1.183, -0.3705, -0.024, -2.1178, -0.9365]\n",
            "Weight Vector for the 12 trains: [-0.4254, -0.6335, 5.347, -33.4043, 9.1174, -0.1166, 0.9996, -0.4034, -0.0251, -2.142, -0.94]\n",
            "Weight Vector for the 13 trains: [-0.3593, -0.6077, 6.5724, -36.9553, 9.5319, -0.126, 1.2129, -0.3987, -0.0256, -2.0122, -0.9593]\n",
            "Weight Vector for the 14 trains: [-0.4204, -0.659, 8.9696, -34.6976, 9.2258, -0.1316, 1.1028, -0.3686, -0.0244, -2.1768, -0.9703]\n",
            "Weight Vector for the 15 trains: [-0.3831, -0.6551, 4.8793, -32.0444, 9.3107, -0.1195, 1.0251, -0.393, -0.0249, -2.0735, -0.9969]\n",
            "Weight Vector for the 16 trains: [-0.4435, -0.6444, 6.5687, -35.5766, 9.3873, -0.1145, 1.1249, -0.4029, -0.0264, -2.2206, -0.9529]\n",
            "Weight Vector for the 17 trains: [-0.3853, -0.6074, 7.0619, -30.2508, 9.7231, -0.1062, 0.7857, -0.3669, -0.024, -2.2054, -1.0081]\n",
            "Weight Vector for the 18 trains: [-0.5556, -0.6406, 8.9174, -36.61, 8.8624, -0.1386, 1.2759, -0.4232, -0.0264, -2.2388, -0.9788]\n",
            "Weight Vector for the 19 trains: [-0.4832, -0.6577, 8.6611, -33.4237, 9.6487, -0.1291, 1.2185, -0.4139, -0.0255, -2.2686, -1.0236]\n",
            "Weight Vector for the 20 trains: [-0.3631, -0.6271, 6.9677, -32.8607, 8.1832, -0.1226, 1.1015, -0.4074, -0.0258, -2.049, -0.8753]\n",
            "Weight Vector for the 1 trains: [-0.4266, -0.678, 6.0171, -34.4163, 9.2919, -0.128, 1.0821, -0.4248, -0.0264, -2.339, -0.9887]\n",
            "Weight Vector for the 2 trains: [-0.4251, -0.6275, 6.4037, -34.8911, 9.2842, -0.1348, 1.2981, -0.3842, -0.0235, -2.1333, -0.9164]\n",
            "Weight Vector for the 3 trains: [-0.3714, -0.5888, 8.8088, -30.4539, 8.3593, -0.1097, 0.8904, -0.3579, -0.0229, -2.0625, -0.945]\n",
            "Weight Vector for the 4 trains: [-0.3872, -0.6605, 9.1046, -33.9179, 9.2824, -0.1248, 1.1354, -0.3777, -0.0244, -2.1022, -0.9912]\n",
            "Weight Vector for the 5 trains: [-0.399, -0.643, 8.8639, -32.8169, 8.615, -0.1258, 1.1111, -0.3911, -0.025, -1.7494, -0.8774]\n",
            "Weight Vector for the 6 trains: [-0.4458, -0.6863, 2.8142, -34.1108, 8.8138, -0.1242, 1.1627, -0.44, -0.0267, -2.2265, -0.9404]\n",
            "Weight Vector for the 7 trains: [-0.4289, -0.6605, 7.2405, -32.0386, 8.9399, -0.1221, 1.0428, -0.3909, -0.0261, -2.1137, -0.9752]\n",
            "Weight Vector for the 8 trains: [-0.5456, -0.6517, 6.9816, -35.5697, 9.7717, -0.1181, 1.1419, -0.4099, -0.0263, -2.1485, -0.9379]\n",
            "Weight Vector for the 9 trains: [-0.3628, -0.6748, 6.0342, -36.8756, 9.3867, -0.1394, 1.2398, -0.3911, -0.0255, -2.2191, -1.0078]\n",
            "Weight Vector for the 10 trains: [-0.3787, -0.6076, 5.4848, -33.4138, 9.1255, -0.1141, 1.0105, -0.3956, -0.0247, -2.0077, -0.9261]\n",
            "Weight Vector for the 11 trains: [-0.3994, -0.6352, 5.0962, -34.4002, 8.7919, -0.1303, 1.183, -0.3705, -0.024, -2.1178, -0.9365]\n",
            "Weight Vector for the 12 trains: [-0.4254, -0.6335, 5.347, -33.4043, 9.1174, -0.1166, 0.9996, -0.4034, -0.0251, -2.142, -0.94]\n",
            "Weight Vector for the 13 trains: [-0.3593, -0.6077, 6.5724, -36.9553, 9.5319, -0.126, 1.2129, -0.3987, -0.0256, -2.0122, -0.9593]\n",
            "Weight Vector for the 14 trains: [-0.4204, -0.659, 8.9696, -34.6976, 9.2258, -0.1316, 1.1028, -0.3686, -0.0244, -2.1768, -0.9703]\n",
            "Weight Vector for the 15 trains: [-0.3831, -0.6551, 4.8793, -32.0444, 9.3107, -0.1195, 1.0251, -0.393, -0.0249, -2.0735, -0.9969]\n",
            "Weight Vector for the 16 trains: [-0.4435, -0.6444, 6.5687, -35.5766, 9.3873, -0.1145, 1.1249, -0.4029, -0.0264, -2.2206, -0.9529]\n",
            "Weight Vector for the 17 trains: [-0.3853, -0.6074, 7.0619, -30.2508, 9.7231, -0.1062, 0.7857, -0.3669, -0.024, -2.2054, -1.0081]\n",
            "Weight Vector for the 18 trains: [-0.5556, -0.6406, 8.9174, -36.61, 8.8624, -0.1386, 1.2759, -0.4232, -0.0264, -2.2388, -0.9788]\n",
            "Weight Vector for the 19 trains: [-0.4832, -0.6577, 8.6611, -33.4237, 9.6487, -0.1291, 1.2185, -0.4139, -0.0255, -2.2686, -1.0236]\n",
            "Weight Vector for the 20 trains: [-0.3631, -0.6271, 6.9677, -32.8607, 8.1832, -0.1226, 1.1015, -0.4074, -0.0258, -2.049, -0.8753]\n",
            "Weight Vector for the 1 trains: [-0.4266, -0.678, 6.0171, -34.4163, 9.2919, -0.128, 1.0821, -0.4248, -0.0264, -2.339, -0.9887]\n",
            "Weight Vector for the 2 trains: [-0.4251, -0.6275, 6.4037, -34.8911, 9.2842, -0.1348, 1.2981, -0.3842, -0.0235, -2.1333, -0.9164]\n",
            "Weight Vector for the 3 trains: [-0.3714, -0.5888, 8.8088, -30.4539, 8.3593, -0.1097, 0.8904, -0.3579, -0.0229, -2.0625, -0.945]\n",
            "Weight Vector for the 4 trains: [-0.3872, -0.6605, 9.1046, -33.9179, 9.2824, -0.1248, 1.1354, -0.3777, -0.0244, -2.1022, -0.9912]\n",
            "Weight Vector for the 5 trains: [-0.399, -0.643, 8.8639, -32.8169, 8.615, -0.1258, 1.1111, -0.3911, -0.025, -1.7494, -0.8774]\n",
            "Weight Vector for the 6 trains: [-0.4458, -0.6863, 2.8142, -34.1108, 8.8138, -0.1242, 1.1627, -0.44, -0.0267, -2.2265, -0.9404]\n",
            "Weight Vector for the 7 trains: [-0.4289, -0.6605, 7.2405, -32.0386, 8.9399, -0.1221, 1.0428, -0.3909, -0.0261, -2.1137, -0.9752]\n",
            "Weight Vector for the 8 trains: [-0.5456, -0.6517, 6.9816, -35.5697, 9.7717, -0.1181, 1.1419, -0.4099, -0.0263, -2.1485, -0.9379]\n",
            "Weight Vector for the 9 trains: [-0.3628, -0.6748, 6.0342, -36.8756, 9.3867, -0.1394, 1.2398, -0.3911, -0.0255, -2.2191, -1.0078]\n",
            "Weight Vector for the 10 trains: [-0.3787, -0.6076, 5.4848, -33.4138, 9.1255, -0.1141, 1.0105, -0.3956, -0.0247, -2.0077, -0.9261]\n",
            "Weight Vector for the 11 trains: [-0.3994, -0.6352, 5.0962, -34.4002, 8.7919, -0.1303, 1.183, -0.3705, -0.024, -2.1178, -0.9365]\n",
            "Weight Vector for the 12 trains: [-0.4254, -0.6335, 5.347, -33.4043, 9.1174, -0.1166, 0.9996, -0.4034, -0.0251, -2.142, -0.94]\n",
            "Weight Vector for the 13 trains: [-0.3593, -0.6077, 6.5724, -36.9553, 9.5319, -0.126, 1.2129, -0.3987, -0.0256, -2.0122, -0.9593]\n",
            "Weight Vector for the 14 trains: [-0.4204, -0.659, 8.9696, -34.6976, 9.2258, -0.1316, 1.1028, -0.3686, -0.0244, -2.1768, -0.9703]\n",
            "Weight Vector for the 15 trains: [-0.3831, -0.6551, 4.8793, -32.0444, 9.3107, -0.1195, 1.0251, -0.393, -0.0249, -2.0735, -0.9969]\n",
            "Weight Vector for the 16 trains: [-0.4435, -0.6444, 6.5687, -35.5766, 9.3873, -0.1145, 1.1249, -0.4029, -0.0264, -2.2206, -0.9529]\n",
            "Weight Vector for the 17 trains: [-0.3853, -0.6074, 7.0619, -30.2508, 9.7231, -0.1062, 0.7857, -0.3669, -0.024, -2.2054, -1.0081]\n",
            "Weight Vector for the 18 trains: [-0.5556, -0.6406, 8.9174, -36.61, 8.8624, -0.1386, 1.2759, -0.4232, -0.0264, -2.2388, -0.9788]\n",
            "Weight Vector for the 19 trains: [-0.4832, -0.6577, 8.6611, -33.4237, 9.6487, -0.1291, 1.2185, -0.4139, -0.0255, -2.2686, -1.0236]\n",
            "Weight Vector for the 20 trains: [-0.3631, -0.6271, 6.9677, -32.8607, 8.1832, -0.1226, 1.1015, -0.4074, -0.0258, -2.049, -0.8753]\n",
            "Weight Vector for the 1 trains: [-0.4266, -0.678, 6.0171, -34.4163, 9.2919, -0.128, 1.0821, -0.4248, -0.0264, -2.339, -0.9887]\n",
            "Weight Vector for the 2 trains: [-0.4251, -0.6275, 6.4037, -34.8911, 9.2842, -0.1348, 1.2981, -0.3842, -0.0235, -2.1333, -0.9164]\n",
            "Weight Vector for the 3 trains: [-0.3714, -0.5888, 8.8088, -30.4539, 8.3593, -0.1097, 0.8904, -0.3579, -0.0229, -2.0625, -0.945]\n",
            "Weight Vector for the 4 trains: [-0.3872, -0.6605, 9.1046, -33.9179, 9.2824, -0.1248, 1.1354, -0.3777, -0.0244, -2.1022, -0.9912]\n",
            "Weight Vector for the 5 trains: [-0.399, -0.643, 8.8639, -32.8169, 8.615, -0.1258, 1.1111, -0.3911, -0.025, -1.7494, -0.8774]\n",
            "Weight Vector for the 6 trains: [-0.4458, -0.6863, 2.8142, -34.1108, 8.8138, -0.1242, 1.1627, -0.44, -0.0267, -2.2265, -0.9404]\n",
            "Weight Vector for the 7 trains: [-0.4289, -0.6605, 7.2405, -32.0386, 8.9399, -0.1221, 1.0428, -0.3909, -0.0261, -2.1137, -0.9752]\n",
            "Weight Vector for the 8 trains: [-0.5456, -0.6517, 6.9816, -35.5697, 9.7717, -0.1181, 1.1419, -0.4099, -0.0263, -2.1485, -0.9379]\n",
            "Weight Vector for the 9 trains: [-0.3628, -0.6748, 6.0342, -36.8756, 9.3867, -0.1394, 1.2398, -0.3911, -0.0255, -2.2191, -1.0078]\n",
            "Weight Vector for the 10 trains: [-0.3787, -0.6076, 5.4848, -33.4138, 9.1255, -0.1141, 1.0105, -0.3956, -0.0247, -2.0077, -0.9261]\n",
            "Weight Vector for the 11 trains: [-0.3994, -0.6352, 5.0962, -34.4002, 8.7919, -0.1303, 1.183, -0.3705, -0.024, -2.1178, -0.9365]\n",
            "Weight Vector for the 12 trains: [-0.4254, -0.6335, 5.347, -33.4043, 9.1174, -0.1166, 0.9996, -0.4034, -0.0251, -2.142, -0.94]\n",
            "Weight Vector for the 13 trains: [-0.3593, -0.6077, 6.5724, -36.9553, 9.5319, -0.126, 1.2129, -0.3987, -0.0256, -2.0122, -0.9593]\n",
            "Weight Vector for the 14 trains: [-0.4204, -0.659, 8.9696, -34.6976, 9.2258, -0.1316, 1.1028, -0.3686, -0.0244, -2.1768, -0.9703]\n",
            "Weight Vector for the 15 trains: [-0.3831, -0.6551, 4.8793, -32.0444, 9.3107, -0.1195, 1.0251, -0.393, -0.0249, -2.0735, -0.9969]\n",
            "Weight Vector for the 16 trains: [-0.4435, -0.6444, 6.5687, -35.5766, 9.3873, -0.1145, 1.1249, -0.4029, -0.0264, -2.2206, -0.9529]\n",
            "Weight Vector for the 17 trains: [-0.3853, -0.6074, 7.0619, -30.2508, 9.7231, -0.1062, 0.7857, -0.3669, -0.024, -2.2054, -1.0081]\n",
            "Weight Vector for the 18 trains: [-0.5556, -0.6406, 8.9174, -36.61, 8.8624, -0.1386, 1.2759, -0.4232, -0.0264, -2.2388, -0.9788]\n",
            "Weight Vector for the 19 trains: [-0.4832, -0.6577, 8.6611, -33.4237, 9.6487, -0.1291, 1.2185, -0.4139, -0.0255, -2.2686, -1.0236]\n",
            "Weight Vector for the 20 trains: [-0.3631, -0.6271, 6.9677, -32.8607, 8.1832, -0.1226, 1.1015, -0.4074, -0.0258, -2.049, -0.8753]\n",
            "Train MSE Mean: [70.704175 64.050575 80.34604  68.119735 43.675835 71.36935  78.04456\n",
            " 71.559585 65.32425  62.090905 37.477225]\n",
            "Test MSE Mean: [74.487465 66.16293  85.569355 71.106985 43.808505 74.936785 81.79525\n",
            " 73.52534  67.23688  64.181495 40.879635]\n",
            "Train MSE Std: [5.29710166 5.16261106 4.9396612  5.11819111 2.45944562 5.38063537\n",
            " 5.38914223 5.49649594 5.47882801 4.08550087 2.43470387]\n",
            "Test MSE Std: [10.53291929 10.3797418  10.04534732 10.18279586  5.00276764 10.73372865\n",
            " 10.69609588 11.0001369  10.96632578  8.37912849  5.08219279]\n"
          ]
        }
      ],
      "source": [
        "num_splits = 20\n",
        "\n",
        "\n",
        "for i in range(num_splits):\n",
        "  train_x, train_y, test_x, test_y, train, test = get_traintest(data, labelname, columnB,i)\n",
        "  bias_train_x = train_x.copy()\n",
        "  bias_train_x['Bias'] = ones_train\n",
        "  bias_test_x = test_x.copy()\n",
        "  bias_test_x['Bias'] = ones_test\n",
        "  MSE_c_train, MSE_c_test = linear_regression_single(bias_train_x, train_y, bias_test_x, test_y, i)\n",
        "\n",
        "# print(MSE_c_train[:2])\n",
        "# print(MSE_c_test[:2])\n",
        "\n",
        "\n",
        "mean_train = np.mean(MSE_c_train, axis=0)\n",
        "mean_test = np.mean(MSE_c_test, axis=0)\n",
        "std_train = np.std(MSE_c_train, axis=0)\n",
        "std_test = np.std(MSE_c_test, axis=0)\n",
        "\n",
        "# return mean and std\n",
        "print(\"Train MSE Mean:\", mean_train)\n",
        "print(\"Test MSE Mean:\", mean_test)\n",
        "print(\"Train MSE Std:\", std_train)\n",
        "print(\"Test MSE Std:\", std_test)\n"
      ]
    },
    {
      "cell_type": "code",
      "execution_count": 313,
      "metadata": {
        "colab": {
          "base_uri": "https://localhost:8080/",
          "height": 957
        },
        "id": "QRPwsJBUP0wU",
        "outputId": "9b0e9d21-6cf5-40e7-c147-8323d426a51e"
      },
      "outputs": [
        {
          "data": {
            "image/png": "[encoded data removed]",
            "text/plain": [
              "<Figure size 1000x500 with 1 Axes>"
            ]
          },
          "metadata": {},
          "output_type": "display_data"
        },
        {
          "data": {
            "image/png": "[encoded data removed]",
            "text/plain": [
              "<Figure size 1000x500 with 1 Axes>"
            ]
          },
          "metadata": {},
          "output_type": "display_data"
        }
      ],
      "source": [
        "features = range(1, len(mean_train) + 1)\n",
        "\n",
        "\n",
        "plt.figure(figsize=(10, 5))\n",
        "plt.plot(features, mean_train, label='Train Mean', marker='o')\n",
        "plt.plot(features, mean_test, label='Test Mean', marker='o')\n",
        "plt.title('Mean of Train and Test MSE')\n",
        "plt.xlabel('Features')\n",
        "plt.ylabel('Mean MSE')\n",
        "plt.legend()\n",
        "plt.grid()\n",
        "plt.show()\n",
        "\n",
        "\n",
        "plt.figure(figsize=(10, 5))\n",
        "plt.plot(features, std_train, label='Train Std', marker='o')\n",
        "plt.plot(features, std_test, label='Test Std', marker='o')\n",
        "plt.title('Standard Deviation of Train and Test MSE')\n",
        "plt.xlabel('Features')\n",
        "plt.ylabel('Standard Deviation MSE')\n",
        "plt.legend()\n",
        "plt.grid()\n",
        "plt.show()"
      ]
    }
  ],
  "metadata": {
    "colab": {
      "provenance": []
    },
    "kernelspec": {
      "display_name": "Python 3",
      "language": "python",
      "name": "python3"
    },
    "language_info": {
      "codemirror_mode": {
        "name": "ipython",
        "version": 3
      },
      "file_extension": ".py",
      "mimetype": "text/x-python",
      "name": "python",
      "nbconvert_exporter": "python",
      "pygments_lexer": "ipython3",
      "version": "3.11.4"
    }
  },
  "nbformat": 4,
  "nbformat_minor": 0
}
